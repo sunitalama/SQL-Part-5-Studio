{
    "metadata": {
        "kernelspec": {
            "name": "SQL",
            "display_name": "SQL",
            "language": "sql"
        },
        "language_info": {
            "name": "sql",
            "version": ""
        },
        "extensions": {
            "azuredatastudio": {
                "version": 1,
                "views": []
            }
        }
    },
    "nbformat_minor": 2,
    "nbformat": 4,
    "cells": [
        {
            "cell_type": "markdown",
            "source": [
                "# Lesson 14 Studio:  A Library Service\n",
                "\n",
                "## Setting Up Your Data\n",
                "\n",
                "You will be creating 5 new tables within your own schema.\n",
                "\n",
                "4 of the tables can be populated using the starter code which can be found in the folder \"[Starter Code](https://github.com/speudusa/SQL-Part-5-Studio/tree/master/Starter%20Code)\" in the studio GitHub repository. \n",
                "\n",
                "After setting up the data you should have the following five tables:\n",
                "\n",
                "1. book\n",
                "2. author\n",
                "3. patron\n",
                "4. genre\n",
                "5. loan"
            ],
            "metadata": {
                "azdata_cell_guid": "928fed11-edfb-4971-8795-99e1a2479024"
            },
            "attachments": {}
        },
        {
            "cell_type": "markdown",
            "source": [
                "## **Part A: Setting Up Your Tables**\n",
                "\n",
                "### **Book Table**\n",
                "\n",
                "To create the **book** table, you can use the following SQL query:\n",
                "\n",
                "```\n",
                "CREATE TABLE [DB].[schema].book (\n",
                "    book_id INT IDENTITY(1,1) PRIMARY KEY, \n",
                "    author_id INT,\n",
                "    title VARCHAR(255),\n",
                "    isbn INT,\n",
                "    available BIT,\n",
                "    genre_id INT\n",
                ");\n",
                "```\n",
                "\n",
                "_A few notes on this syntax:_\n",
                "\n",
                "> On Auto-incrementing:\n",
                "> \n",
                "> We are going to have SQL help us assign book\\_id numbers using auto-incrementing using the **IDENTITY** property.\n",
                "> \n",
                "> The [IDENTITY](https://docs.microsoft.com/en-us/sql/t-sql/statements/create-table-transact-sql-identity-property?view=sql-server-ver15) syntax is as follows: **IDENTITY(seed, increment)**.  We want to seed the first id number as 1 in this table and increment by 1 for each following book\\_id.\n",
                "\n",
                "> On BIT datatypes:\n",
                "> \n",
                "> For the **available** column, we are going to use the [BIT datatype](https://docs.microsoft.com/en-us/sql/t-sql/data-types/bit-transact-sql?view=sql-server-ver15) to represent True or False values.  Bit allows three entries: 0 which will stand for false,  1 which will stand for true,  and NULL.\n",
                "\n",
                "> On CREATE TABLES:\n",
                "> \n",
                "> You may only create a table once.  You may comment out your creation query once you run it."
            ],
            "metadata": {
                "azdata_cell_guid": "3cd07164-2b30-427a-9b61-2889c08cdf24"
            },
            "attachments": {}
        },
        {
            "cell_type": "code",
            "source": [
                "-- Create the book table here.  Update the name of the database and schema.\n",
                "CREATE TABLE JunkDB_STL_Sept2022.sunital.book (\n",
                "    book_id INT IDENTITY(1,1) PRIMARY KEY, \n",
                "    author_id INT,\n",
                "    title VARCHAR(255),\n",
                "    isbn INT,\n",
                "    available BIT,\n",
                "    genre_id INT\n",
                ");\n",
                ""
            ],
            "metadata": {
                "azdata_cell_guid": "754ed0e1-18d8-4a12-ac6c-c19d7f671a0d",
                "tags": [],
                "language": "sql"
            },
            "outputs": [
                {
                    "output_type": "display_data",
                    "data": {
                        "text/html": "Commands completed successfully."
                    },
                    "metadata": {}
                },
                {
                    "output_type": "display_data",
                    "data": {
                        "text/html": "Total execution time: 00:00:00.050"
                    },
                    "metadata": {}
                }
            ],
            "execution_count": 1
        },
        {
            "cell_type": "markdown",
            "source": [
                "### Populate the **book** table.\n",
                "\n",
                "For the starter data, use the [book\\_data.ipynb notebook](https://github.com/speudusa/SQL-Part-5-Studio/tree/master/Starter%20Code).\n",
                "\n",
                "> You may copy/paste the commands into the next code block.  You will need to update each INSERT statement to contain the names of your database and schema."
            ],
            "metadata": {
                "azdata_cell_guid": "8a158f8e-a006-4b9c-a5b0-8dca2c8ed558"
            },
            "attachments": {}
        },
        {
            "cell_type": "code",
            "source": [
                "-- Paste the book data values in this code box.  Be sure to update database and schema names.\r\n",
                "\r\n",
                "\r\n",
                "INSERT INTO JunkDB_STL_Sept2022.sunital.book(author_id, title, isbn, available, genre_id)\r\n",
                "VALUES (2, 'A Midsummers Night Dream', 978149413, 1, 23),\r\n",
                "        (2, 'Romeo and Juliet', 988535196, 1, 3),\r\n",
                "        (1, 'The Golden Compass', 451664226, 1, 1),\r\n",
                "         (1, 'The Subtle Knife', 160419390, 1, 1),\r\n",
                "         (1, 'The Amber Spyglass', 94387895, 1, 1),\r\n",
                "         (3, 'The Alchemist', 464069772, 1, 2),\r\n",
                "        (4, 'And Then There Were None', 335973357, 1, 6),\r\n",
                "         (5, 'The Joy Luck Club', 990050329, 1, 10),\r\n",
                "         (5, 'The Moon Lady', 91720786, 1, 24),\r\n",
                "        (6, 'Sense and Sensibility', 156879860, 1, 2),\r\n",
                "         (6, 'Northanger Abbey', 951273178, 1, 3),\r\n",
                "          (6, 'Pride and Prejudice', 415886839, 1, 3),\r\n",
                "         (6, 'Mansfield Park', 188534067, 1, 3),\r\n",
                "         (6, 'Emma', 994896202, 1, 3),\r\n",
                "         (8, 'The Handmaids Tale', 639239663, 1, 5),\r\n",
                "        (8, 'The Testaments', 826875490, 1, 5),\r\n",
                "         (9, 'The Parable of the Sower', 283359358, 1, 5),\r\n",
                "         (10, 'Little Women', 495409887, 1, 23),\r\n",
                "         (11, 'Still Life', 455128657, 1, 6),\r\n",
                "         (11, 'A Fatal Grace', 832517012, 1, 6),\r\n",
                "        (11, 'The Cruelest Month', 419285319, 1, 6),\r\n",
                "         (11, 'The Murder Stone', 656621400, 1, 6),\r\n",
                "        (11, 'The Brutal Telling', 144255852, 1, 6),\r\n",
                "        (11, 'Bury Your Dead', 208180961, 1, 6),\r\n",
                "         (11, 'A Trick of the Light', 93451531, 1, 6),\r\n",
                "         (12, 'Midnights Children', 881082293, 1, 10),\r\n",
                "        (13, 'Dont Let the Pigeon Drive the Bus!', 18409532, 1, 24),\r\n",
                "         (14, 'Beezus and Ramona', 744412630, 1, 24),\r\n",
                "        (15, 'Organic Chemistry', 604328803, 1, 25),\r\n",
                "         (16, 'I Know Why the Caged Bird Sings', 909947112, 1, 12),\r\n",
                "        (17, 'Beloved', 46736233, 1, 10),\r\n",
                "        (18, 'Brassbones and Rainbows', 330608463, 1, 26);\r\n",
                ""
            ],
            "metadata": {
                "azdata_cell_guid": "9306ce77-24c2-4675-bacd-0e6d567b7c0d",
                "language": "sql"
            },
            "outputs": [
                {
                    "output_type": "display_data",
                    "data": {
                        "text/html": "(32 rows affected)"
                    },
                    "metadata": {}
                },
                {
                    "output_type": "display_data",
                    "data": {
                        "text/html": "Total execution time: 00:00:00.045"
                    },
                    "metadata": {}
                }
            ],
            "execution_count": 5
        },
        {
            "cell_type": "markdown",
            "source": [
                "### Test your data.  \n",
                "\n",
                "Run a quick query of your choice to see if the book table was properly created."
            ],
            "metadata": {
                "azdata_cell_guid": "1fe68960-aaec-456d-bbd9-4e00d73f542d"
            },
            "attachments": {}
        },
        {
            "cell_type": "code",
            "source": [
                "-- test your book table here.\r\n",
                "SELECT *\r\n",
                "FROM sunital.book"
            ],
            "metadata": {
                "azdata_cell_guid": "b0d6fa80-cde5-46d3-a2c2-d93dbfb1805f",
                "language": "sql"
            },
            "outputs": [
                {
                    "output_type": "display_data",
                    "data": {
                        "text/html": "(64 rows affected)"
                    },
                    "metadata": {}
                },
                {
                    "output_type": "display_data",
                    "data": {
                        "text/html": "Total execution time: 00:00:00.118"
                    },
                    "metadata": {}
                },
                {
                    "output_type": "execute_result",
                    "execution_count": 6,
                    "data": {
                        "application/vnd.dataresource+json": {
                            "schema": {
                                "fields": [
                                    {
                                        "name": "book_id"
                                    },
                                    {
                                        "name": "author_id"
                                    },
                                    {
                                        "name": "title"
                                    },
                                    {
                                        "name": "isbn"
                                    },
                                    {
                                        "name": "available"
                                    },
                                    {
                                        "name": "genre_id"
                                    }
                                ]
                            },
                            "data": [
                                {
                                    "0": "1",
                                    "1": "2",
                                    "2": "A Midsummers Night Dream",
                                    "3": "978149413",
                                    "4": "1",
                                    "5": "23"
                                },
                                {
                                    "0": "2",
                                    "1": "2",
                                    "2": "Romeo and Juliet",
                                    "3": "988535196",
                                    "4": "1",
                                    "5": "3"
                                },
                                {
                                    "0": "3",
                                    "1": "1",
                                    "2": "The Golden Compass",
                                    "3": "451664226",
                                    "4": "1",
                                    "5": "1"
                                },
                                {
                                    "0": "4",
                                    "1": "1",
                                    "2": "The Subtle Knife",
                                    "3": "160419390",
                                    "4": "1",
                                    "5": "1"
                                },
                                {
                                    "0": "5",
                                    "1": "1",
                                    "2": "The Amber Spyglass",
                                    "3": "94387895",
                                    "4": "1",
                                    "5": "1"
                                },
                                {
                                    "0": "6",
                                    "1": "3",
                                    "2": "The Alchemist",
                                    "3": "464069772",
                                    "4": "1",
                                    "5": "2"
                                },
                                {
                                    "0": "7",
                                    "1": "4",
                                    "2": "And Then There Were None",
                                    "3": "335973357",
                                    "4": "1",
                                    "5": "6"
                                },
                                {
                                    "0": "8",
                                    "1": "5",
                                    "2": "The Joy Luck Club",
                                    "3": "990050329",
                                    "4": "1",
                                    "5": "10"
                                },
                                {
                                    "0": "9",
                                    "1": "5",
                                    "2": "The Moon Lady",
                                    "3": "91720786",
                                    "4": "1",
                                    "5": "24"
                                },
                                {
                                    "0": "10",
                                    "1": "6",
                                    "2": "Sense and Sensibility",
                                    "3": "156879860",
                                    "4": "1",
                                    "5": "2"
                                },
                                {
                                    "0": "11",
                                    "1": "6",
                                    "2": "Northanger Abbey",
                                    "3": "951273178",
                                    "4": "1",
                                    "5": "3"
                                },
                                {
                                    "0": "12",
                                    "1": "6",
                                    "2": "Pride and Prejudice",
                                    "3": "415886839",
                                    "4": "1",
                                    "5": "3"
                                },
                                {
                                    "0": "13",
                                    "1": "6",
                                    "2": "Mansfield Park",
                                    "3": "188534067",
                                    "4": "1",
                                    "5": "3"
                                },
                                {
                                    "0": "14",
                                    "1": "6",
                                    "2": "Emma",
                                    "3": "994896202",
                                    "4": "1",
                                    "5": "3"
                                },
                                {
                                    "0": "15",
                                    "1": "8",
                                    "2": "The Handmaids Tale",
                                    "3": "639239663",
                                    "4": "1",
                                    "5": "5"
                                },
                                {
                                    "0": "16",
                                    "1": "8",
                                    "2": "The Testaments",
                                    "3": "826875490",
                                    "4": "1",
                                    "5": "5"
                                },
                                {
                                    "0": "17",
                                    "1": "9",
                                    "2": "The Parable of the Sower",
                                    "3": "283359358",
                                    "4": "1",
                                    "5": "5"
                                },
                                {
                                    "0": "18",
                                    "1": "10",
                                    "2": "Little Women",
                                    "3": "495409887",
                                    "4": "1",
                                    "5": "23"
                                },
                                {
                                    "0": "19",
                                    "1": "11",
                                    "2": "Still Life",
                                    "3": "455128657",
                                    "4": "1",
                                    "5": "6"
                                },
                                {
                                    "0": "20",
                                    "1": "11",
                                    "2": "A Fatal Grace",
                                    "3": "832517012",
                                    "4": "1",
                                    "5": "6"
                                },
                                {
                                    "0": "21",
                                    "1": "11",
                                    "2": "The Cruelest Month",
                                    "3": "419285319",
                                    "4": "1",
                                    "5": "6"
                                },
                                {
                                    "0": "22",
                                    "1": "11",
                                    "2": "The Murder Stone",
                                    "3": "656621400",
                                    "4": "1",
                                    "5": "6"
                                },
                                {
                                    "0": "23",
                                    "1": "11",
                                    "2": "The Brutal Telling",
                                    "3": "144255852",
                                    "4": "1",
                                    "5": "6"
                                },
                                {
                                    "0": "24",
                                    "1": "11",
                                    "2": "Bury Your Dead",
                                    "3": "208180961",
                                    "4": "1",
                                    "5": "6"
                                },
                                {
                                    "0": "25",
                                    "1": "11",
                                    "2": "A Trick of the Light",
                                    "3": "93451531",
                                    "4": "1",
                                    "5": "6"
                                },
                                {
                                    "0": "26",
                                    "1": "12",
                                    "2": "Midnights Children",
                                    "3": "881082293",
                                    "4": "1",
                                    "5": "10"
                                },
                                {
                                    "0": "27",
                                    "1": "13",
                                    "2": "Dont Let the Pigeon Drive the Bus!",
                                    "3": "18409532",
                                    "4": "1",
                                    "5": "24"
                                },
                                {
                                    "0": "28",
                                    "1": "14",
                                    "2": "Beezus and Ramona",
                                    "3": "744412630",
                                    "4": "1",
                                    "5": "24"
                                },
                                {
                                    "0": "29",
                                    "1": "15",
                                    "2": "Organic Chemistry",
                                    "3": "604328803",
                                    "4": "1",
                                    "5": "25"
                                },
                                {
                                    "0": "30",
                                    "1": "16",
                                    "2": "I Know Why the Caged Bird Sings",
                                    "3": "909947112",
                                    "4": "1",
                                    "5": "12"
                                },
                                {
                                    "0": "31",
                                    "1": "17",
                                    "2": "Beloved",
                                    "3": "46736233",
                                    "4": "1",
                                    "5": "10"
                                },
                                {
                                    "0": "32",
                                    "1": "18",
                                    "2": "Brassbones and Rainbows",
                                    "3": "330608463",
                                    "4": "1",
                                    "5": "26"
                                },
                                {
                                    "0": "33",
                                    "1": "2",
                                    "2": "A Midsummers Night Dream",
                                    "3": "978149413",
                                    "4": "1",
                                    "5": "23"
                                },
                                {
                                    "0": "34",
                                    "1": "2",
                                    "2": "Romeo and Juliet",
                                    "3": "988535196",
                                    "4": "1",
                                    "5": "3"
                                },
                                {
                                    "0": "35",
                                    "1": "1",
                                    "2": "The Golden Compass",
                                    "3": "451664226",
                                    "4": "1",
                                    "5": "1"
                                },
                                {
                                    "0": "36",
                                    "1": "1",
                                    "2": "The Subtle Knife",
                                    "3": "160419390",
                                    "4": "1",
                                    "5": "1"
                                },
                                {
                                    "0": "37",
                                    "1": "1",
                                    "2": "The Amber Spyglass",
                                    "3": "94387895",
                                    "4": "1",
                                    "5": "1"
                                },
                                {
                                    "0": "38",
                                    "1": "3",
                                    "2": "The Alchemist",
                                    "3": "464069772",
                                    "4": "1",
                                    "5": "2"
                                },
                                {
                                    "0": "39",
                                    "1": "4",
                                    "2": "And Then There Were None",
                                    "3": "335973357",
                                    "4": "1",
                                    "5": "6"
                                },
                                {
                                    "0": "40",
                                    "1": "5",
                                    "2": "The Joy Luck Club",
                                    "3": "990050329",
                                    "4": "1",
                                    "5": "10"
                                },
                                {
                                    "0": "41",
                                    "1": "5",
                                    "2": "The Moon Lady",
                                    "3": "91720786",
                                    "4": "1",
                                    "5": "24"
                                },
                                {
                                    "0": "42",
                                    "1": "6",
                                    "2": "Sense and Sensibility",
                                    "3": "156879860",
                                    "4": "1",
                                    "5": "2"
                                },
                                {
                                    "0": "43",
                                    "1": "6",
                                    "2": "Northanger Abbey",
                                    "3": "951273178",
                                    "4": "1",
                                    "5": "3"
                                },
                                {
                                    "0": "44",
                                    "1": "6",
                                    "2": "Pride and Prejudice",
                                    "3": "415886839",
                                    "4": "1",
                                    "5": "3"
                                },
                                {
                                    "0": "45",
                                    "1": "6",
                                    "2": "Mansfield Park",
                                    "3": "188534067",
                                    "4": "1",
                                    "5": "3"
                                },
                                {
                                    "0": "46",
                                    "1": "6",
                                    "2": "Emma",
                                    "3": "994896202",
                                    "4": "1",
                                    "5": "3"
                                },
                                {
                                    "0": "47",
                                    "1": "8",
                                    "2": "The Handmaids Tale",
                                    "3": "639239663",
                                    "4": "1",
                                    "5": "5"
                                },
                                {
                                    "0": "48",
                                    "1": "8",
                                    "2": "The Testaments",
                                    "3": "826875490",
                                    "4": "1",
                                    "5": "5"
                                },
                                {
                                    "0": "49",
                                    "1": "9",
                                    "2": "The Parable of the Sower",
                                    "3": "283359358",
                                    "4": "1",
                                    "5": "5"
                                },
                                {
                                    "0": "50",
                                    "1": "10",
                                    "2": "Little Women",
                                    "3": "495409887",
                                    "4": "1",
                                    "5": "23"
                                },
                                {
                                    "0": "51",
                                    "1": "11",
                                    "2": "Still Life",
                                    "3": "455128657",
                                    "4": "1",
                                    "5": "6"
                                },
                                {
                                    "0": "52",
                                    "1": "11",
                                    "2": "A Fatal Grace",
                                    "3": "832517012",
                                    "4": "1",
                                    "5": "6"
                                },
                                {
                                    "0": "53",
                                    "1": "11",
                                    "2": "The Cruelest Month",
                                    "3": "419285319",
                                    "4": "1",
                                    "5": "6"
                                },
                                {
                                    "0": "54",
                                    "1": "11",
                                    "2": "The Murder Stone",
                                    "3": "656621400",
                                    "4": "1",
                                    "5": "6"
                                },
                                {
                                    "0": "55",
                                    "1": "11",
                                    "2": "The Brutal Telling",
                                    "3": "144255852",
                                    "4": "1",
                                    "5": "6"
                                },
                                {
                                    "0": "56",
                                    "1": "11",
                                    "2": "Bury Your Dead",
                                    "3": "208180961",
                                    "4": "1",
                                    "5": "6"
                                },
                                {
                                    "0": "57",
                                    "1": "11",
                                    "2": "A Trick of the Light",
                                    "3": "93451531",
                                    "4": "1",
                                    "5": "6"
                                },
                                {
                                    "0": "58",
                                    "1": "12",
                                    "2": "Midnights Children",
                                    "3": "881082293",
                                    "4": "1",
                                    "5": "10"
                                },
                                {
                                    "0": "59",
                                    "1": "13",
                                    "2": "Dont Let the Pigeon Drive the Bus!",
                                    "3": "18409532",
                                    "4": "1",
                                    "5": "24"
                                },
                                {
                                    "0": "60",
                                    "1": "14",
                                    "2": "Beezus and Ramona",
                                    "3": "744412630",
                                    "4": "1",
                                    "5": "24"
                                },
                                {
                                    "0": "61",
                                    "1": "15",
                                    "2": "Organic Chemistry",
                                    "3": "604328803",
                                    "4": "1",
                                    "5": "25"
                                },
                                {
                                    "0": "62",
                                    "1": "16",
                                    "2": "I Know Why the Caged Bird Sings",
                                    "3": "909947112",
                                    "4": "1",
                                    "5": "12"
                                },
                                {
                                    "0": "63",
                                    "1": "17",
                                    "2": "Beloved",
                                    "3": "46736233",
                                    "4": "1",
                                    "5": "10"
                                },
                                {
                                    "0": "64",
                                    "1": "18",
                                    "2": "Brassbones and Rainbows",
                                    "3": "330608463",
                                    "4": "1",
                                    "5": "26"
                                }
                            ]
                        },
                        "text/html": "<table><tr><th>book_id</th><th>author_id</th><th>title</th><th>isbn</th><th>available</th><th>genre_id</th></tr><tr><td>1</td><td>2</td><td>A Midsummers Night Dream</td><td>978149413</td><td>1</td><td>23</td></tr><tr><td>2</td><td>2</td><td>Romeo and Juliet</td><td>988535196</td><td>1</td><td>3</td></tr><tr><td>3</td><td>1</td><td>The Golden Compass</td><td>451664226</td><td>1</td><td>1</td></tr><tr><td>4</td><td>1</td><td>The Subtle Knife</td><td>160419390</td><td>1</td><td>1</td></tr><tr><td>5</td><td>1</td><td>The Amber Spyglass</td><td>94387895</td><td>1</td><td>1</td></tr><tr><td>6</td><td>3</td><td>The Alchemist</td><td>464069772</td><td>1</td><td>2</td></tr><tr><td>7</td><td>4</td><td>And Then There Were None</td><td>335973357</td><td>1</td><td>6</td></tr><tr><td>8</td><td>5</td><td>The Joy Luck Club</td><td>990050329</td><td>1</td><td>10</td></tr><tr><td>9</td><td>5</td><td>The Moon Lady</td><td>91720786</td><td>1</td><td>24</td></tr><tr><td>10</td><td>6</td><td>Sense and Sensibility</td><td>156879860</td><td>1</td><td>2</td></tr><tr><td>11</td><td>6</td><td>Northanger Abbey</td><td>951273178</td><td>1</td><td>3</td></tr><tr><td>12</td><td>6</td><td>Pride and Prejudice</td><td>415886839</td><td>1</td><td>3</td></tr><tr><td>13</td><td>6</td><td>Mansfield Park</td><td>188534067</td><td>1</td><td>3</td></tr><tr><td>14</td><td>6</td><td>Emma</td><td>994896202</td><td>1</td><td>3</td></tr><tr><td>15</td><td>8</td><td>The Handmaids Tale</td><td>639239663</td><td>1</td><td>5</td></tr><tr><td>16</td><td>8</td><td>The Testaments</td><td>826875490</td><td>1</td><td>5</td></tr><tr><td>17</td><td>9</td><td>The Parable of the Sower</td><td>283359358</td><td>1</td><td>5</td></tr><tr><td>18</td><td>10</td><td>Little Women</td><td>495409887</td><td>1</td><td>23</td></tr><tr><td>19</td><td>11</td><td>Still Life</td><td>455128657</td><td>1</td><td>6</td></tr><tr><td>20</td><td>11</td><td>A Fatal Grace</td><td>832517012</td><td>1</td><td>6</td></tr><tr><td>21</td><td>11</td><td>The Cruelest Month</td><td>419285319</td><td>1</td><td>6</td></tr><tr><td>22</td><td>11</td><td>The Murder Stone</td><td>656621400</td><td>1</td><td>6</td></tr><tr><td>23</td><td>11</td><td>The Brutal Telling</td><td>144255852</td><td>1</td><td>6</td></tr><tr><td>24</td><td>11</td><td>Bury Your Dead</td><td>208180961</td><td>1</td><td>6</td></tr><tr><td>25</td><td>11</td><td>A Trick of the Light</td><td>93451531</td><td>1</td><td>6</td></tr><tr><td>26</td><td>12</td><td>Midnights Children</td><td>881082293</td><td>1</td><td>10</td></tr><tr><td>27</td><td>13</td><td>Dont Let the Pigeon Drive the Bus!</td><td>18409532</td><td>1</td><td>24</td></tr><tr><td>28</td><td>14</td><td>Beezus and Ramona</td><td>744412630</td><td>1</td><td>24</td></tr><tr><td>29</td><td>15</td><td>Organic Chemistry</td><td>604328803</td><td>1</td><td>25</td></tr><tr><td>30</td><td>16</td><td>I Know Why the Caged Bird Sings</td><td>909947112</td><td>1</td><td>12</td></tr><tr><td>31</td><td>17</td><td>Beloved</td><td>46736233</td><td>1</td><td>10</td></tr><tr><td>32</td><td>18</td><td>Brassbones and Rainbows</td><td>330608463</td><td>1</td><td>26</td></tr><tr><td>33</td><td>2</td><td>A Midsummers Night Dream</td><td>978149413</td><td>1</td><td>23</td></tr><tr><td>34</td><td>2</td><td>Romeo and Juliet</td><td>988535196</td><td>1</td><td>3</td></tr><tr><td>35</td><td>1</td><td>The Golden Compass</td><td>451664226</td><td>1</td><td>1</td></tr><tr><td>36</td><td>1</td><td>The Subtle Knife</td><td>160419390</td><td>1</td><td>1</td></tr><tr><td>37</td><td>1</td><td>The Amber Spyglass</td><td>94387895</td><td>1</td><td>1</td></tr><tr><td>38</td><td>3</td><td>The Alchemist</td><td>464069772</td><td>1</td><td>2</td></tr><tr><td>39</td><td>4</td><td>And Then There Were None</td><td>335973357</td><td>1</td><td>6</td></tr><tr><td>40</td><td>5</td><td>The Joy Luck Club</td><td>990050329</td><td>1</td><td>10</td></tr><tr><td>41</td><td>5</td><td>The Moon Lady</td><td>91720786</td><td>1</td><td>24</td></tr><tr><td>42</td><td>6</td><td>Sense and Sensibility</td><td>156879860</td><td>1</td><td>2</td></tr><tr><td>43</td><td>6</td><td>Northanger Abbey</td><td>951273178</td><td>1</td><td>3</td></tr><tr><td>44</td><td>6</td><td>Pride and Prejudice</td><td>415886839</td><td>1</td><td>3</td></tr><tr><td>45</td><td>6</td><td>Mansfield Park</td><td>188534067</td><td>1</td><td>3</td></tr><tr><td>46</td><td>6</td><td>Emma</td><td>994896202</td><td>1</td><td>3</td></tr><tr><td>47</td><td>8</td><td>The Handmaids Tale</td><td>639239663</td><td>1</td><td>5</td></tr><tr><td>48</td><td>8</td><td>The Testaments</td><td>826875490</td><td>1</td><td>5</td></tr><tr><td>49</td><td>9</td><td>The Parable of the Sower</td><td>283359358</td><td>1</td><td>5</td></tr><tr><td>50</td><td>10</td><td>Little Women</td><td>495409887</td><td>1</td><td>23</td></tr><tr><td>51</td><td>11</td><td>Still Life</td><td>455128657</td><td>1</td><td>6</td></tr><tr><td>52</td><td>11</td><td>A Fatal Grace</td><td>832517012</td><td>1</td><td>6</td></tr><tr><td>53</td><td>11</td><td>The Cruelest Month</td><td>419285319</td><td>1</td><td>6</td></tr><tr><td>54</td><td>11</td><td>The Murder Stone</td><td>656621400</td><td>1</td><td>6</td></tr><tr><td>55</td><td>11</td><td>The Brutal Telling</td><td>144255852</td><td>1</td><td>6</td></tr><tr><td>56</td><td>11</td><td>Bury Your Dead</td><td>208180961</td><td>1</td><td>6</td></tr><tr><td>57</td><td>11</td><td>A Trick of the Light</td><td>93451531</td><td>1</td><td>6</td></tr><tr><td>58</td><td>12</td><td>Midnights Children</td><td>881082293</td><td>1</td><td>10</td></tr><tr><td>59</td><td>13</td><td>Dont Let the Pigeon Drive the Bus!</td><td>18409532</td><td>1</td><td>24</td></tr><tr><td>60</td><td>14</td><td>Beezus and Ramona</td><td>744412630</td><td>1</td><td>24</td></tr><tr><td>61</td><td>15</td><td>Organic Chemistry</td><td>604328803</td><td>1</td><td>25</td></tr><tr><td>62</td><td>16</td><td>I Know Why the Caged Bird Sings</td><td>909947112</td><td>1</td><td>12</td></tr><tr><td>63</td><td>17</td><td>Beloved</td><td>46736233</td><td>1</td><td>10</td></tr><tr><td>64</td><td>18</td><td>Brassbones and Rainbows</td><td>330608463</td><td>1</td><td>26</td></tr></table>"
                    },
                    "metadata": {}
                }
            ],
            "execution_count": 6
        },
        {
            "cell_type": "markdown",
            "source": [
                "We will repeat a similar process for the **author, patron,** and **genre** tables. \n",
                "\n",
                "### **Author Table**\n",
                "\n",
                "To create the **author** table, you will use the following code:\n",
                "\n",
                "```\n",
                "CREATE TABLE [DB].[schema].author (\n",
                "    author_id INT IDENTITY(1,1), PRIMARY KEY\n",
                "    first_name VARCHAR(255),\n",
                "    last_name VARCHAR(255),\n",
                "    birth_year INT,\n",
                "    death_year INT\n",
                ");\n",
                "```"
            ],
            "metadata": {
                "azdata_cell_guid": "b63ee318-4506-48f1-adb1-267925282624"
            },
            "attachments": {}
        },
        {
            "cell_type": "code",
            "source": [
                "-- create the author table here:\n",
                "CREATE TABLE JunkDB_STL_Sept2022.sunital.author (\n",
                "    author_id INT IDENTITY(1,1), PRIMARY KEY(author_id),\n",
                "    first_name VARCHAR(255),\n",
                "    last_name VARCHAR(255),\n",
                "    birth_year INT,\n",
                "    death_year INT\n",
                ");"
            ],
            "metadata": {
                "azdata_cell_guid": "c3903edb-35bf-4806-b554-ecbf3736b7bf",
                "language": "sql"
            },
            "outputs": [
                {
                    "output_type": "display_data",
                    "data": {
                        "text/html": "Commands completed successfully."
                    },
                    "metadata": {}
                },
                {
                    "output_type": "display_data",
                    "data": {
                        "text/html": "Total execution time: 00:00:00.048"
                    },
                    "metadata": {}
                }
            ],
            "execution_count": 7
        },
        {
            "cell_type": "markdown",
            "source": [
                "Populate the **author** table with the [author\\_data.ipynb](https://github.com/speudusa/SQL-Part-5-Studio/tree/master/Starter%20Code)."
            ],
            "metadata": {
                "azdata_cell_guid": "80c74052-6126-4ebd-90fb-4fd6720c79ac"
            },
            "attachments": {}
        },
        {
            "cell_type": "code",
            "source": [
                "-- paste the author data values in this code.\r\n",
                "INSERT INTO [JunkDB_STL_Sept2022].sunital.author(first_name, last_name, birth_year, death_year)\r\n",
                "VALUES ('Phillip', 'Pullman', 1946, null),\r\n",
                " ('William', 'Shakespeare', 1564, 1616),\r\n",
                " ('Paulo', 'Coelho', 1947, null),\r\n",
                " ('Agatha', 'Christie', 1890-09-15, 1976-01-12),\r\n",
                " ('Amy', 'Tan', 1952-02-19, null),\r\n",
                " ('Jane', 'Austin', 1775-12-16, 1817-07-18),\r\n",
                " ('Emily', 'Bronte', 1818-07-30, 1848-12-19),\r\n",
                " ('Margaret', 'Atwood', 1939-11-18, null),\r\n",
                " ('Octavia', 'Butler', 1947-06-22, 2006-02-24),\r\n",
                " ('Louisa May', 'Alcott', 1832-11-29, 1888-03-06),\r\n",
                " ('Louise', 'Penny', 1958-07-01, null),\r\n",
                " ('Salman', 'Rushdie', 1947-08-19, null),\r\n",
                " ('Mo', 'Willems', 1968-02-11, null),\r\n",
                " ('Beverly', 'Cleary', 1916-04-12, null),\r\n",
                " ('Peter', 'Vollhardt', 1946-03-07, null),\r\n",
                " ('Maya', 'Angelou', 1928-04-04, 2014-05-28),\r\n",
                " ('Toni', 'Morrison', 1931-02-18, 2019-08-05),\r\n",
                " ('Shirley', 'LeFlore', 1940-03-06, 2019-05-12)"
            ],
            "metadata": {
                "azdata_cell_guid": "2f7ea794-a4a0-4b28-ba15-20e07065dc84",
                "language": "sql",
                "tags": []
            },
            "outputs": [
                {
                    "output_type": "display_data",
                    "data": {
                        "text/html": "(18 rows affected)"
                    },
                    "metadata": {}
                },
                {
                    "output_type": "display_data",
                    "data": {
                        "text/html": "Total execution time: 00:00:00.046"
                    },
                    "metadata": {}
                }
            ],
            "execution_count": 8
        },
        {
            "cell_type": "markdown",
            "source": [
                "### **Patron Table**\n",
                "\n",
                "To create the **patron**, you will use the following code:\n",
                "\n",
                "```\n",
                "CREATE TABLE [DB].[schema].patron (\n",
                "    patron_id INT IDENTITY (1,1) PRIMARY KEY,\n",
                "    first_name VARCHAR(255),\n",
                "    last_name VARCHAR(255),\n",
                "    loan_id INT\n",
                ");\n",
                "```"
            ],
            "metadata": {
                "azdata_cell_guid": "a530aabe-e455-4369-8c06-db0e6001388c"
            },
            "attachments": {}
        },
        {
            "cell_type": "code",
            "source": [
                "-- create the patron table here:\r\n",
                "CREATE TABLE JunkDB_STL_Sept2022.sunital.patron (\r\n",
                "    patron_id INT IDENTITY (1,1) PRIMARY KEY,\r\n",
                "    first_name VARCHAR(255),\r\n",
                "    last_name VARCHAR(255),\r\n",
                "    loan_id INT\r\n",
                ");"
            ],
            "metadata": {
                "azdata_cell_guid": "864ecf06-5b94-4bcc-b281-6ab9b65a2343",
                "language": "sql",
                "tags": []
            },
            "outputs": [
                {
                    "output_type": "display_data",
                    "data": {
                        "text/html": "Commands completed successfully."
                    },
                    "metadata": {}
                },
                {
                    "output_type": "display_data",
                    "data": {
                        "text/html": "Total execution time: 00:00:00.047"
                    },
                    "metadata": {}
                }
            ],
            "execution_count": 9
        },
        {
            "cell_type": "markdown",
            "source": [
                "Populate the **patron** table with the [patron\\_data.ipynb](https://github.com/speudusa/SQL-Part-5-Studio/tree/master/Starter%20Code) notebook."
            ],
            "metadata": {
                "azdata_cell_guid": "48f1e14c-8d2a-458c-8c75-4223fd5344ba"
            },
            "attachments": {}
        },
        {
            "cell_type": "code",
            "source": [
                "-- insert patron data into the table here:\n",
                "INSERT INTO JunkDB_STL_Sept2022.sunital.patron(first_name, last_name, loan_id)\n",
                "VALUES ('Jennifer', 'Slayny', NULL),\n",
                " ('Susan', 'Traviss', NULL),\n",
                "  ('Vincent', 'Ritelli', NULL),\n",
                " ('Tasia', 'Laybourne', NULL),\n",
                "  ('Wren', 'Gergler', NULL),\n",
                " ('Tory', 'Lees', NULL),\n",
                " ('Estelle', 'Di Lorio', NULL),\n",
                "  ('Dorian', 'Betje', NULL),\n",
                "  ('Frank', 'Jelk', NULL),\n",
                " ('Chris', 'Endon', NULL),\n",
                " ('Gillie', 'Fritz', NULL),\n",
                " ('Leisha', 'Defty', NULL),\n",
                "  ('Erika', 'Bompass', NULL),\n",
                "  ('Gabe', 'Moxstead', NULL),\n",
                "    ('Blake', 'Teresse', NULL),\n",
                "  ('Joshua', 'Timmouth', NULL),\n",
                " ('Tasha', 'Timmouth', NULL),\n",
                "  ('Neil', 'Davie', NULL),\n",
                "  ('Emmeline', 'Pitherick', NULL),\n",
                "  ('Josiah', 'Staner', NULL),\n",
                "   ('James', 'Greetham', NULL),\n",
                "   ('Isaac', 'Barstowk', NULL),\n",
                "  ('Dean', 'Nelane', NULL),\n",
                "  ('Carolina', 'Cranmere', NULL),\n",
                "  ('Champ', 'Lardiner', NULL),\n",
                "  ('Abbie', 'Quaif', NULL),\n",
                "  ('Camile', 'Milbourne', NULL),\n",
                " ('Quentin', 'Crose', NULL),\n",
                "  ('Silvano', 'Horlick', NULL),\n",
                "  ('Phyllis', 'Cicchillo', NULL),\n",
                "  ('Jerrie', 'Brownhall', NULL),\n",
                " ('Ludovika', 'Leist', NULL),\n",
                " ('Tara', 'Knatt', NULL),\n",
                " ('Kelsie', 'Parkson', NULL),\n",
                " ('Jodi', 'Leopard', NULL),\n",
                " ('Rosanna', 'Cultcheth', NULL),\n",
                " ('Remy', 'Fairpool', NULL),\n",
                " ('Megan', 'Blyth', NULL),\n",
                " ('Rikki', 'McLernon', NULL),\n",
                "('Clare', 'Haacker', NULL),\n",
                " ('Vincent', 'Chettle', NULL),\n",
                " ('Sybil', 'Costanza', NULL),\n",
                " ('Jonas', 'Sinclare', NULL),\n",
                " ('Claire', 'Bendel', NULL),\n",
                " ('Kathleen', 'Welband', NULL),\n",
                " ('Kylie', 'Crannage', NULL),\n",
                " ('Evelyn', 'Tarajo', NULL),\n",
                " ('Oliver', 'Caulson', NULL)\n",
                ""
            ],
            "metadata": {
                "azdata_cell_guid": "8aa02813-50d7-4c02-9c0f-cf5da207a0b1",
                "tags": [],
                "language": "sql"
            },
            "outputs": [
                {
                    "output_type": "display_data",
                    "data": {
                        "text/html": "(48 rows affected)"
                    },
                    "metadata": {}
                },
                {
                    "output_type": "display_data",
                    "data": {
                        "text/html": "Total execution time: 00:00:00.103"
                    },
                    "metadata": {}
                }
            ],
            "execution_count": 12
        },
        {
            "cell_type": "markdown",
            "source": [
                "### **Genre Table**\n",
                "\n",
                "To create the **genre** table, use the following code:\n",
                "\n",
                "```\n",
                "CREATE TABLE [DB].[schema].genre (\n",
                "    genre_id INT PRIMARY KEY,\n",
                "    genres VARCHAR(100)\n",
                ");\n",
                "```"
            ],
            "metadata": {
                "azdata_cell_guid": "d7e74ee6-1ca3-4e79-beb5-04543b03b7cf"
            },
            "attachments": {}
        },
        {
            "cell_type": "code",
            "source": [
                "-- create genre table here:\r\n",
                "CREATE TABLE JunkDB_STL_Sept2022.sunital.genre (\r\n",
                "    genre_id INT PRIMARY KEY,\r\n",
                "    genres VARCHAR(100)\r\n",
                ");"
            ],
            "metadata": {
                "azdata_cell_guid": "90f553ee-b7e8-4509-8ac7-bf81c0b42158",
                "language": "sql"
            },
            "outputs": [
                {
                    "output_type": "display_data",
                    "data": {
                        "text/html": "Commands completed successfully."
                    },
                    "metadata": {}
                },
                {
                    "output_type": "display_data",
                    "data": {
                        "text/html": "Total execution time: 00:00:00.041"
                    },
                    "metadata": {}
                }
            ],
            "execution_count": 13
        },
        {
            "cell_type": "markdown",
            "source": [
                "Populate the **genre** table with the [genre\\_data.ipybn](https://github.com/speudusa/SQL-Part-5-Studio/tree/master/Starter%20Code) notebook."
            ],
            "metadata": {
                "azdata_cell_guid": "ed09922e-5d4f-437a-97c6-9bb052839503"
            },
            "attachments": {}
        },
        {
            "cell_type": "code",
            "source": [
                "-- insert the genre data into the table here:\n",
                "INSERT INTO JunkDB_STL_Sept2022.sunital.genre(genre_id, genres)\n",
                "VALUES (1, 'Fantasy'),\n",
                "      (2, 'Adventure'),\n",
                "       (3, 'Romance'),\n",
                "       (4, 'Contemporary'),\n",
                "       (5, 'Dystopian'),\n",
                "       (6, 'Mystery'),\n",
                "       (7, 'Horror'),\n",
                "       (8, 'Thriller'),\n",
                "       (9, 'Paranormal'),\n",
                "       (10, 'Historical Fiction'),\n",
                "       (11, 'Science Ficton'),\n",
                "         (12, 'Memoir'),\n",
                "        (13, 'Cooking'),\n",
                "        (14, 'Art'),\n",
                "        (15, 'Self-Help'),\n",
                "        (16, 'Development'),\n",
                "        (17, 'Motivational'),\n",
                "        (18, 'Health'),\n",
                "        (19, 'History'),\n",
                "        (20, 'Travel'),\n",
                "        (21, 'Guide'),\n",
                "       (22, 'Families and Relationships' ),\n",
                "        (23, 'Humor'),\n",
                "        (24, 'Childrens'),\n",
                "        (25, 'Reference'),\n",
                "        (26, 'Poetry')"
            ],
            "metadata": {
                "azdata_cell_guid": "d21f25bc-3bc0-4c48-932f-728fdc2c0f1b",
                "language": "sql"
            },
            "outputs": [
                {
                    "output_type": "display_data",
                    "data": {
                        "text/html": "(26 rows affected)"
                    },
                    "metadata": {}
                },
                {
                    "output_type": "display_data",
                    "data": {
                        "text/html": "Total execution time: 00:00:00.132"
                    },
                    "metadata": {}
                }
            ],
            "execution_count": 2
        },
        {
            "cell_type": "markdown",
            "source": [
                "### **Loan Table**\n",
                "\n",
                "The **loan** table will be created differently and will stay empty.  We will use our other tables to populate the loan table using queries shortly.  \n",
                "\n",
                "Use the following code to create the **loan** table:\n",
                "\n",
                "```\n",
                "CREATE TABLE [DB].[schema].loan (\n",
                "    loan_id INT IDENTITY(1,1) PRIMARY KEY,\n",
                "    patron_id INT,\n",
                "    date_out DATE,\n",
                "    date_in DATE,\n",
                "    book_id INT\n",
                "    CONSTRAINT book_id FOREIGN KEY (book_id) REFERENCES [DB].[schema].book (book_id)\n",
                "        ON UPDATE SET NULL\n",
                "        ON DELETE SET NULL\n",
                ");\n",
                "```\n",
                "\n",
                "_Notes about the syntax:_\n",
                "\n",
                "> We are adding a [foreign key](https://www.w3schools.com/sql/sql_foreignkey.asp) to this table to reference a different table's primary key.  In this studio, we are going to link the **loan** table to the **book** table using keys.  The **loan** table will reference and add book id numbers based on the **book** table's book\\_id.  We are also providing [constraints](https://www.w3schools.com/sql/sql_constraints.asp) to be very specific about what type of data is allowed in this column."
            ],
            "metadata": {
                "azdata_cell_guid": "111aa17f-6295-4780-b56a-c580951ba446"
            },
            "attachments": {}
        },
        {
            "cell_type": "code",
            "source": [
                "-- Code the loan table.  \n",
                "-- Note that you will need to update the first and seventh lines with your database and schema info.\n",
                "\n",
                "CREATE TABLE JunkDB_STL_Sept2022.sunital.loan (\n",
                "    loan_id INT IDENTITY(1,1) PRIMARY KEY,\n",
                "    patron_id INT,\n",
                "    date_out DATE,\n",
                "    date_in DATE,\n",
                "    book_id INT\n",
                "    CONSTRAINT book_id FOREIGN KEY (book_id) REFERENCES JunkDB_STL_Sept2022.sunital.book (book_id)\n",
                "        ON UPDATE SET NULL\n",
                "        ON DELETE SET NULL\n",
                ");\n",
                ""
            ],
            "metadata": {
                "azdata_cell_guid": "0c02072d-832a-44bb-aa28-c8e273cc930a",
                "language": "sql"
            },
            "outputs": [
                {
                    "output_type": "display_data",
                    "data": {
                        "text/html": "Commands completed successfully."
                    },
                    "metadata": {}
                },
                {
                    "output_type": "display_data",
                    "data": {
                        "text/html": "Total execution time: 00:00:00.131"
                    },
                    "metadata": {}
                }
            ],
            "execution_count": 3
        },
        {
            "cell_type": "markdown",
            "source": [
                ""
            ],
            "metadata": {
                "azdata_cell_guid": "7b8490ca-1d4f-4beb-837d-7ef1ee681865"
            },
            "attachments": {}
        },
        {
            "cell_type": "markdown",
            "source": [
                "## **Part B: Warm-Up Queries**\n",
                "\n",
                "Write the following queries to get warmed up and make sure your tables have populated appropriately. \n",
                "\n",
                "1. Return the mystery book titles and their ISBNs.  \n",
                "      \n",
                "    \n",
                "2. Return all of the titles and the author's first and last names for books written by authors who are currently living."
            ],
            "metadata": {
                "azdata_cell_guid": "c52719ab-94f3-4eff-97fa-1f928892ef3b"
            },
            "attachments": {}
        },
        {
            "cell_type": "code",
            "source": [
                "--Code your warm ups here:\r\n",
                "SELECT b.title, b.isbn \r\n",
                "FROM JunkDB_STL_Sept2022.sunital.book as b\r\n",
                "INNER JOIN JunkDB_STL_Sept2022.sunital.genre as g \r\n",
                "ON b.genre_id= g.genre_id\r\n",
                "WHERE genres like 'Mystery'\r\n",
                ""
            ],
            "metadata": {
                "azdata_cell_guid": "95590c74-e772-4e0e-b35d-346409d9d4c0",
                "language": "sql",
                "tags": []
            },
            "outputs": [
                {
                    "output_type": "display_data",
                    "data": {
                        "text/html": "(16 rows affected)"
                    },
                    "metadata": {}
                },
                {
                    "output_type": "display_data",
                    "data": {
                        "text/html": "Total execution time: 00:00:00.098"
                    },
                    "metadata": {}
                },
                {
                    "output_type": "execute_result",
                    "execution_count": 7,
                    "data": {
                        "application/vnd.dataresource+json": {
                            "schema": {
                                "fields": [
                                    {
                                        "name": "title"
                                    },
                                    {
                                        "name": "isbn"
                                    }
                                ]
                            },
                            "data": [
                                {
                                    "0": "And Then There Were None",
                                    "1": "335973357"
                                },
                                {
                                    "0": "Still Life",
                                    "1": "455128657"
                                },
                                {
                                    "0": "A Fatal Grace",
                                    "1": "832517012"
                                },
                                {
                                    "0": "The Cruelest Month",
                                    "1": "419285319"
                                },
                                {
                                    "0": "The Murder Stone",
                                    "1": "656621400"
                                },
                                {
                                    "0": "The Brutal Telling",
                                    "1": "144255852"
                                },
                                {
                                    "0": "Bury Your Dead",
                                    "1": "208180961"
                                },
                                {
                                    "0": "A Trick of the Light",
                                    "1": "93451531"
                                },
                                {
                                    "0": "And Then There Were None",
                                    "1": "335973357"
                                },
                                {
                                    "0": "Still Life",
                                    "1": "455128657"
                                },
                                {
                                    "0": "A Fatal Grace",
                                    "1": "832517012"
                                },
                                {
                                    "0": "The Cruelest Month",
                                    "1": "419285319"
                                },
                                {
                                    "0": "The Murder Stone",
                                    "1": "656621400"
                                },
                                {
                                    "0": "The Brutal Telling",
                                    "1": "144255852"
                                },
                                {
                                    "0": "Bury Your Dead",
                                    "1": "208180961"
                                },
                                {
                                    "0": "A Trick of the Light",
                                    "1": "93451531"
                                }
                            ]
                        },
                        "text/html": "<table><tr><th>title</th><th>isbn</th></tr><tr><td>And Then There Were None</td><td>335973357</td></tr><tr><td>Still Life</td><td>455128657</td></tr><tr><td>A Fatal Grace</td><td>832517012</td></tr><tr><td>The Cruelest Month</td><td>419285319</td></tr><tr><td>The Murder Stone</td><td>656621400</td></tr><tr><td>The Brutal Telling</td><td>144255852</td></tr><tr><td>Bury Your Dead</td><td>208180961</td></tr><tr><td>A Trick of the Light</td><td>93451531</td></tr><tr><td>And Then There Were None</td><td>335973357</td></tr><tr><td>Still Life</td><td>455128657</td></tr><tr><td>A Fatal Grace</td><td>832517012</td></tr><tr><td>The Cruelest Month</td><td>419285319</td></tr><tr><td>The Murder Stone</td><td>656621400</td></tr><tr><td>The Brutal Telling</td><td>144255852</td></tr><tr><td>Bury Your Dead</td><td>208180961</td></tr><tr><td>A Trick of the Light</td><td>93451531</td></tr></table>"
                    },
                    "metadata": {}
                }
            ],
            "execution_count": 7
        },
        {
            "cell_type": "code",
            "source": [
                "--Return all of the titles and the author's first and last names for books written by authors who are currently living.\r\n",
                "\r\n",
                "SELECT b.title, a.first_name, a.last_name, a.birth_year, a.death_year\r\n",
                "FROM JunkDB_STL_Sept2022.sunital.author as a \r\n",
                "INNER JOIN JunkDB_STL_Sept2022.sunital.book as b\r\n",
                "ON a.author_id = b.author_id\r\n",
                "WHERE a.death_year is null"
            ],
            "metadata": {
                "language": "sql",
                "azdata_cell_guid": "4c5185ce-99ad-4de9-a773-e465fe326de2"
            },
            "outputs": [
                {
                    "output_type": "display_data",
                    "data": {
                        "text/html": "(38 rows affected)"
                    },
                    "metadata": {}
                },
                {
                    "output_type": "display_data",
                    "data": {
                        "text/html": "Total execution time: 00:00:00.156"
                    },
                    "metadata": {}
                },
                {
                    "output_type": "execute_result",
                    "execution_count": 15,
                    "data": {
                        "application/vnd.dataresource+json": {
                            "schema": {
                                "fields": [
                                    {
                                        "name": "title"
                                    },
                                    {
                                        "name": "first_name"
                                    },
                                    {
                                        "name": "last_name"
                                    },
                                    {
                                        "name": "birth_year"
                                    },
                                    {
                                        "name": "death_year"
                                    }
                                ]
                            },
                            "data": [
                                {
                                    "0": "The Golden Compass",
                                    "1": "Phillip",
                                    "2": "Pullman",
                                    "3": "1946",
                                    "4": "NULL"
                                },
                                {
                                    "0": "The Subtle Knife",
                                    "1": "Phillip",
                                    "2": "Pullman",
                                    "3": "1946",
                                    "4": "NULL"
                                },
                                {
                                    "0": "The Amber Spyglass",
                                    "1": "Phillip",
                                    "2": "Pullman",
                                    "3": "1946",
                                    "4": "NULL"
                                },
                                {
                                    "0": "The Alchemist",
                                    "1": "Paulo",
                                    "2": "Coelho",
                                    "3": "1947",
                                    "4": "NULL"
                                },
                                {
                                    "0": "The Joy Luck Club",
                                    "1": "Amy",
                                    "2": "Tan",
                                    "3": "1931",
                                    "4": "NULL"
                                },
                                {
                                    "0": "The Moon Lady",
                                    "1": "Amy",
                                    "2": "Tan",
                                    "3": "1931",
                                    "4": "NULL"
                                },
                                {
                                    "0": "The Handmaids Tale",
                                    "1": "Margaret",
                                    "2": "Atwood",
                                    "3": "1910",
                                    "4": "NULL"
                                },
                                {
                                    "0": "The Testaments",
                                    "1": "Margaret",
                                    "2": "Atwood",
                                    "3": "1910",
                                    "4": "NULL"
                                },
                                {
                                    "0": "Still Life",
                                    "1": "Louise",
                                    "2": "Penny",
                                    "3": "1950",
                                    "4": "NULL"
                                },
                                {
                                    "0": "A Fatal Grace",
                                    "1": "Louise",
                                    "2": "Penny",
                                    "3": "1950",
                                    "4": "NULL"
                                },
                                {
                                    "0": "The Cruelest Month",
                                    "1": "Louise",
                                    "2": "Penny",
                                    "3": "1950",
                                    "4": "NULL"
                                },
                                {
                                    "0": "The Murder Stone",
                                    "1": "Louise",
                                    "2": "Penny",
                                    "3": "1950",
                                    "4": "NULL"
                                },
                                {
                                    "0": "The Brutal Telling",
                                    "1": "Louise",
                                    "2": "Penny",
                                    "3": "1950",
                                    "4": "NULL"
                                },
                                {
                                    "0": "Bury Your Dead",
                                    "1": "Louise",
                                    "2": "Penny",
                                    "3": "1950",
                                    "4": "NULL"
                                },
                                {
                                    "0": "A Trick of the Light",
                                    "1": "Louise",
                                    "2": "Penny",
                                    "3": "1950",
                                    "4": "NULL"
                                },
                                {
                                    "0": "Midnights Children",
                                    "1": "Salman",
                                    "2": "Rushdie",
                                    "3": "1920",
                                    "4": "NULL"
                                },
                                {
                                    "0": "Dont Let the Pigeon Drive the Bus!",
                                    "1": "Mo",
                                    "2": "Willems",
                                    "3": "1955",
                                    "4": "NULL"
                                },
                                {
                                    "0": "Beezus and Ramona",
                                    "1": "Beverly",
                                    "2": "Cleary",
                                    "3": "1900",
                                    "4": "NULL"
                                },
                                {
                                    "0": "Organic Chemistry",
                                    "1": "Peter",
                                    "2": "Vollhardt",
                                    "3": "1936",
                                    "4": "NULL"
                                },
                                {
                                    "0": "The Golden Compass",
                                    "1": "Phillip",
                                    "2": "Pullman",
                                    "3": "1946",
                                    "4": "NULL"
                                },
                                {
                                    "0": "The Subtle Knife",
                                    "1": "Phillip",
                                    "2": "Pullman",
                                    "3": "1946",
                                    "4": "NULL"
                                },
                                {
                                    "0": "The Amber Spyglass",
                                    "1": "Phillip",
                                    "2": "Pullman",
                                    "3": "1946",
                                    "4": "NULL"
                                },
                                {
                                    "0": "The Alchemist",
                                    "1": "Paulo",
                                    "2": "Coelho",
                                    "3": "1947",
                                    "4": "NULL"
                                },
                                {
                                    "0": "The Joy Luck Club",
                                    "1": "Amy",
                                    "2": "Tan",
                                    "3": "1931",
                                    "4": "NULL"
                                },
                                {
                                    "0": "The Moon Lady",
                                    "1": "Amy",
                                    "2": "Tan",
                                    "3": "1931",
                                    "4": "NULL"
                                },
                                {
                                    "0": "The Handmaids Tale",
                                    "1": "Margaret",
                                    "2": "Atwood",
                                    "3": "1910",
                                    "4": "NULL"
                                },
                                {
                                    "0": "The Testaments",
                                    "1": "Margaret",
                                    "2": "Atwood",
                                    "3": "1910",
                                    "4": "NULL"
                                },
                                {
                                    "0": "Still Life",
                                    "1": "Louise",
                                    "2": "Penny",
                                    "3": "1950",
                                    "4": "NULL"
                                },
                                {
                                    "0": "A Fatal Grace",
                                    "1": "Louise",
                                    "2": "Penny",
                                    "3": "1950",
                                    "4": "NULL"
                                },
                                {
                                    "0": "The Cruelest Month",
                                    "1": "Louise",
                                    "2": "Penny",
                                    "3": "1950",
                                    "4": "NULL"
                                },
                                {
                                    "0": "The Murder Stone",
                                    "1": "Louise",
                                    "2": "Penny",
                                    "3": "1950",
                                    "4": "NULL"
                                },
                                {
                                    "0": "The Brutal Telling",
                                    "1": "Louise",
                                    "2": "Penny",
                                    "3": "1950",
                                    "4": "NULL"
                                },
                                {
                                    "0": "Bury Your Dead",
                                    "1": "Louise",
                                    "2": "Penny",
                                    "3": "1950",
                                    "4": "NULL"
                                },
                                {
                                    "0": "A Trick of the Light",
                                    "1": "Louise",
                                    "2": "Penny",
                                    "3": "1950",
                                    "4": "NULL"
                                },
                                {
                                    "0": "Midnights Children",
                                    "1": "Salman",
                                    "2": "Rushdie",
                                    "3": "1920",
                                    "4": "NULL"
                                },
                                {
                                    "0": "Dont Let the Pigeon Drive the Bus!",
                                    "1": "Mo",
                                    "2": "Willems",
                                    "3": "1955",
                                    "4": "NULL"
                                },
                                {
                                    "0": "Beezus and Ramona",
                                    "1": "Beverly",
                                    "2": "Cleary",
                                    "3": "1900",
                                    "4": "NULL"
                                },
                                {
                                    "0": "Organic Chemistry",
                                    "1": "Peter",
                                    "2": "Vollhardt",
                                    "3": "1936",
                                    "4": "NULL"
                                }
                            ]
                        },
                        "text/html": "<table><tr><th>title</th><th>first_name</th><th>last_name</th><th>birth_year</th><th>death_year</th></tr><tr><td>The Golden Compass</td><td>Phillip</td><td>Pullman</td><td>1946</td><td>NULL</td></tr><tr><td>The Subtle Knife</td><td>Phillip</td><td>Pullman</td><td>1946</td><td>NULL</td></tr><tr><td>The Amber Spyglass</td><td>Phillip</td><td>Pullman</td><td>1946</td><td>NULL</td></tr><tr><td>The Alchemist</td><td>Paulo</td><td>Coelho</td><td>1947</td><td>NULL</td></tr><tr><td>The Joy Luck Club</td><td>Amy</td><td>Tan</td><td>1931</td><td>NULL</td></tr><tr><td>The Moon Lady</td><td>Amy</td><td>Tan</td><td>1931</td><td>NULL</td></tr><tr><td>The Handmaids Tale</td><td>Margaret</td><td>Atwood</td><td>1910</td><td>NULL</td></tr><tr><td>The Testaments</td><td>Margaret</td><td>Atwood</td><td>1910</td><td>NULL</td></tr><tr><td>Still Life</td><td>Louise</td><td>Penny</td><td>1950</td><td>NULL</td></tr><tr><td>A Fatal Grace</td><td>Louise</td><td>Penny</td><td>1950</td><td>NULL</td></tr><tr><td>The Cruelest Month</td><td>Louise</td><td>Penny</td><td>1950</td><td>NULL</td></tr><tr><td>The Murder Stone</td><td>Louise</td><td>Penny</td><td>1950</td><td>NULL</td></tr><tr><td>The Brutal Telling</td><td>Louise</td><td>Penny</td><td>1950</td><td>NULL</td></tr><tr><td>Bury Your Dead</td><td>Louise</td><td>Penny</td><td>1950</td><td>NULL</td></tr><tr><td>A Trick of the Light</td><td>Louise</td><td>Penny</td><td>1950</td><td>NULL</td></tr><tr><td>Midnights Children</td><td>Salman</td><td>Rushdie</td><td>1920</td><td>NULL</td></tr><tr><td>Dont Let the Pigeon Drive the Bus!</td><td>Mo</td><td>Willems</td><td>1955</td><td>NULL</td></tr><tr><td>Beezus and Ramona</td><td>Beverly</td><td>Cleary</td><td>1900</td><td>NULL</td></tr><tr><td>Organic Chemistry</td><td>Peter</td><td>Vollhardt</td><td>1936</td><td>NULL</td></tr><tr><td>The Golden Compass</td><td>Phillip</td><td>Pullman</td><td>1946</td><td>NULL</td></tr><tr><td>The Subtle Knife</td><td>Phillip</td><td>Pullman</td><td>1946</td><td>NULL</td></tr><tr><td>The Amber Spyglass</td><td>Phillip</td><td>Pullman</td><td>1946</td><td>NULL</td></tr><tr><td>The Alchemist</td><td>Paulo</td><td>Coelho</td><td>1947</td><td>NULL</td></tr><tr><td>The Joy Luck Club</td><td>Amy</td><td>Tan</td><td>1931</td><td>NULL</td></tr><tr><td>The Moon Lady</td><td>Amy</td><td>Tan</td><td>1931</td><td>NULL</td></tr><tr><td>The Handmaids Tale</td><td>Margaret</td><td>Atwood</td><td>1910</td><td>NULL</td></tr><tr><td>The Testaments</td><td>Margaret</td><td>Atwood</td><td>1910</td><td>NULL</td></tr><tr><td>Still Life</td><td>Louise</td><td>Penny</td><td>1950</td><td>NULL</td></tr><tr><td>A Fatal Grace</td><td>Louise</td><td>Penny</td><td>1950</td><td>NULL</td></tr><tr><td>The Cruelest Month</td><td>Louise</td><td>Penny</td><td>1950</td><td>NULL</td></tr><tr><td>The Murder Stone</td><td>Louise</td><td>Penny</td><td>1950</td><td>NULL</td></tr><tr><td>The Brutal Telling</td><td>Louise</td><td>Penny</td><td>1950</td><td>NULL</td></tr><tr><td>Bury Your Dead</td><td>Louise</td><td>Penny</td><td>1950</td><td>NULL</td></tr><tr><td>A Trick of the Light</td><td>Louise</td><td>Penny</td><td>1950</td><td>NULL</td></tr><tr><td>Midnights Children</td><td>Salman</td><td>Rushdie</td><td>1920</td><td>NULL</td></tr><tr><td>Dont Let the Pigeon Drive the Bus!</td><td>Mo</td><td>Willems</td><td>1955</td><td>NULL</td></tr><tr><td>Beezus and Ramona</td><td>Beverly</td><td>Cleary</td><td>1900</td><td>NULL</td></tr><tr><td>Organic Chemistry</td><td>Peter</td><td>Vollhardt</td><td>1936</td><td>NULL</td></tr></table>"
                    },
                    "metadata": {}
                }
            ],
            "execution_count": 15
        },
        {
            "cell_type": "markdown",
            "source": [
                "## **Part C: Loan Out a Book**\n",
                "\n",
                "The library would like you to create a query that will update the database when a book is loaned out.  \n",
                "\n",
                "This query needs to perform the following functions:\n",
                "\n",
                "1. Change **available** to **0** (false) for the appropriate book.\n",
                "    \n",
                "2. Add a new row to the **loan** table with today's date as the **date\\_out** and the ids in the row matching the appropriate **patron\\_id** and **book\\_id**.\n",
                "    \n",
                "3. Update the appropriate **patron** with the **loan\\_id** for the new row created in the **loan** table.\n",
                "    \n",
                "\n",
                "You can use any patron and book that strikes your fancy to create and test out this query.'\n",
                "\n",
                "> _Note:  Every time you test this, you will add an additional row to the output, creating a new loan id each time.  If you do not update the patron id, then a patron will have multiple loan ids.  This is not an issue for Part C;_ _however, this may cause issues when you work on Part F._"
            ],
            "metadata": {
                "azdata_cell_guid": "89fcab58-413b-4a19-99f2-6c3a7f880f9f"
            },
            "attachments": {}
        },
        {
            "cell_type": "code",
            "source": [
                "-- Create your query that will Loan Out a Book:\r\n",
                "\r\n",
                "SELECT title , available\r\n",
                "FROM JunkDB_STL_Sept2022.sunital.book\r\n",
                "UPDATE JunkDB_STL_Sept2022.sunital.book\r\n",
                "SET available = 0\r\n",
                "WHERE book_id = '3' "
            ],
            "metadata": {
                "azdata_cell_guid": "372104fd-303e-4be3-8b85-d4e4902fe9d9",
                "language": "sql",
                "tags": []
            },
            "outputs": [
                {
                    "output_type": "display_data",
                    "data": {
                        "text/html": "(64 rows affected)"
                    },
                    "metadata": {}
                },
                {
                    "output_type": "display_data",
                    "data": {
                        "text/html": "(1 row affected)"
                    },
                    "metadata": {}
                },
                {
                    "output_type": "display_data",
                    "data": {
                        "text/html": "Total execution time: 00:00:00.057"
                    },
                    "metadata": {}
                },
                {
                    "output_type": "execute_result",
                    "execution_count": 49,
                    "data": {
                        "application/vnd.dataresource+json": {
                            "schema": {
                                "fields": [
                                    {
                                        "name": "title"
                                    },
                                    {
                                        "name": "available"
                                    }
                                ]
                            },
                            "data": [
                                {
                                    "0": "A Midsummers Night Dream",
                                    "1": "1"
                                },
                                {
                                    "0": "Romeo and Juliet",
                                    "1": "1"
                                },
                                {
                                    "0": "The Golden Compass",
                                    "1": "0"
                                },
                                {
                                    "0": "The Subtle Knife",
                                    "1": "1"
                                },
                                {
                                    "0": "The Amber Spyglass",
                                    "1": "1"
                                },
                                {
                                    "0": "The Alchemist",
                                    "1": "1"
                                },
                                {
                                    "0": "And Then There Were None",
                                    "1": "1"
                                },
                                {
                                    "0": "The Joy Luck Club",
                                    "1": "1"
                                },
                                {
                                    "0": "The Moon Lady",
                                    "1": "1"
                                },
                                {
                                    "0": "Sense and Sensibility",
                                    "1": "1"
                                },
                                {
                                    "0": "Northanger Abbey",
                                    "1": "1"
                                },
                                {
                                    "0": "Pride and Prejudice",
                                    "1": "1"
                                },
                                {
                                    "0": "Mansfield Park",
                                    "1": "1"
                                },
                                {
                                    "0": "Emma",
                                    "1": "1"
                                },
                                {
                                    "0": "The Handmaids Tale",
                                    "1": "0"
                                },
                                {
                                    "0": "The Testaments",
                                    "1": "1"
                                },
                                {
                                    "0": "The Parable of the Sower",
                                    "1": "1"
                                },
                                {
                                    "0": "Little Women",
                                    "1": "1"
                                },
                                {
                                    "0": "Still Life",
                                    "1": "1"
                                },
                                {
                                    "0": "A Fatal Grace",
                                    "1": "1"
                                },
                                {
                                    "0": "The Cruelest Month",
                                    "1": "1"
                                },
                                {
                                    "0": "The Murder Stone",
                                    "1": "1"
                                },
                                {
                                    "0": "The Brutal Telling",
                                    "1": "1"
                                },
                                {
                                    "0": "Bury Your Dead",
                                    "1": "1"
                                },
                                {
                                    "0": "A Trick of the Light",
                                    "1": "1"
                                },
                                {
                                    "0": "Midnights Children",
                                    "1": "1"
                                },
                                {
                                    "0": "Dont Let the Pigeon Drive the Bus!",
                                    "1": "1"
                                },
                                {
                                    "0": "Beezus and Ramona",
                                    "1": "1"
                                },
                                {
                                    "0": "Organic Chemistry",
                                    "1": "1"
                                },
                                {
                                    "0": "I Know Why the Caged Bird Sings",
                                    "1": "1"
                                },
                                {
                                    "0": "Beloved",
                                    "1": "1"
                                },
                                {
                                    "0": "Brassbones and Rainbows",
                                    "1": "1"
                                },
                                {
                                    "0": "A Midsummers Night Dream",
                                    "1": "1"
                                },
                                {
                                    "0": "Romeo and Juliet",
                                    "1": "1"
                                },
                                {
                                    "0": "The Golden Compass",
                                    "1": "1"
                                },
                                {
                                    "0": "The Subtle Knife",
                                    "1": "1"
                                },
                                {
                                    "0": "The Amber Spyglass",
                                    "1": "1"
                                },
                                {
                                    "0": "The Alchemist",
                                    "1": "1"
                                },
                                {
                                    "0": "And Then There Were None",
                                    "1": "1"
                                },
                                {
                                    "0": "The Joy Luck Club",
                                    "1": "1"
                                },
                                {
                                    "0": "The Moon Lady",
                                    "1": "1"
                                },
                                {
                                    "0": "Sense and Sensibility",
                                    "1": "1"
                                },
                                {
                                    "0": "Northanger Abbey",
                                    "1": "1"
                                },
                                {
                                    "0": "Pride and Prejudice",
                                    "1": "1"
                                },
                                {
                                    "0": "Mansfield Park",
                                    "1": "1"
                                },
                                {
                                    "0": "Emma",
                                    "1": "1"
                                },
                                {
                                    "0": "The Handmaids Tale",
                                    "1": "1"
                                },
                                {
                                    "0": "The Testaments",
                                    "1": "1"
                                },
                                {
                                    "0": "The Parable of the Sower",
                                    "1": "1"
                                },
                                {
                                    "0": "Little Women",
                                    "1": "1"
                                },
                                {
                                    "0": "Still Life",
                                    "1": "1"
                                },
                                {
                                    "0": "A Fatal Grace",
                                    "1": "1"
                                },
                                {
                                    "0": "The Cruelest Month",
                                    "1": "1"
                                },
                                {
                                    "0": "The Murder Stone",
                                    "1": "1"
                                },
                                {
                                    "0": "The Brutal Telling",
                                    "1": "1"
                                },
                                {
                                    "0": "Bury Your Dead",
                                    "1": "1"
                                },
                                {
                                    "0": "A Trick of the Light",
                                    "1": "1"
                                },
                                {
                                    "0": "Midnights Children",
                                    "1": "1"
                                },
                                {
                                    "0": "Dont Let the Pigeon Drive the Bus!",
                                    "1": "1"
                                },
                                {
                                    "0": "Beezus and Ramona",
                                    "1": "1"
                                },
                                {
                                    "0": "Organic Chemistry",
                                    "1": "1"
                                },
                                {
                                    "0": "I Know Why the Caged Bird Sings",
                                    "1": "1"
                                },
                                {
                                    "0": "Beloved",
                                    "1": "1"
                                },
                                {
                                    "0": "Brassbones and Rainbows",
                                    "1": "1"
                                }
                            ]
                        },
                        "text/html": "<table><tr><th>title</th><th>available</th></tr><tr><td>A Midsummers Night Dream</td><td>1</td></tr><tr><td>Romeo and Juliet</td><td>1</td></tr><tr><td>The Golden Compass</td><td>0</td></tr><tr><td>The Subtle Knife</td><td>1</td></tr><tr><td>The Amber Spyglass</td><td>1</td></tr><tr><td>The Alchemist</td><td>1</td></tr><tr><td>And Then There Were None</td><td>1</td></tr><tr><td>The Joy Luck Club</td><td>1</td></tr><tr><td>The Moon Lady</td><td>1</td></tr><tr><td>Sense and Sensibility</td><td>1</td></tr><tr><td>Northanger Abbey</td><td>1</td></tr><tr><td>Pride and Prejudice</td><td>1</td></tr><tr><td>Mansfield Park</td><td>1</td></tr><tr><td>Emma</td><td>1</td></tr><tr><td>The Handmaids Tale</td><td>0</td></tr><tr><td>The Testaments</td><td>1</td></tr><tr><td>The Parable of the Sower</td><td>1</td></tr><tr><td>Little Women</td><td>1</td></tr><tr><td>Still Life</td><td>1</td></tr><tr><td>A Fatal Grace</td><td>1</td></tr><tr><td>The Cruelest Month</td><td>1</td></tr><tr><td>The Murder Stone</td><td>1</td></tr><tr><td>The Brutal Telling</td><td>1</td></tr><tr><td>Bury Your Dead</td><td>1</td></tr><tr><td>A Trick of the Light</td><td>1</td></tr><tr><td>Midnights Children</td><td>1</td></tr><tr><td>Dont Let the Pigeon Drive the Bus!</td><td>1</td></tr><tr><td>Beezus and Ramona</td><td>1</td></tr><tr><td>Organic Chemistry</td><td>1</td></tr><tr><td>I Know Why the Caged Bird Sings</td><td>1</td></tr><tr><td>Beloved</td><td>1</td></tr><tr><td>Brassbones and Rainbows</td><td>1</td></tr><tr><td>A Midsummers Night Dream</td><td>1</td></tr><tr><td>Romeo and Juliet</td><td>1</td></tr><tr><td>The Golden Compass</td><td>1</td></tr><tr><td>The Subtle Knife</td><td>1</td></tr><tr><td>The Amber Spyglass</td><td>1</td></tr><tr><td>The Alchemist</td><td>1</td></tr><tr><td>And Then There Were None</td><td>1</td></tr><tr><td>The Joy Luck Club</td><td>1</td></tr><tr><td>The Moon Lady</td><td>1</td></tr><tr><td>Sense and Sensibility</td><td>1</td></tr><tr><td>Northanger Abbey</td><td>1</td></tr><tr><td>Pride and Prejudice</td><td>1</td></tr><tr><td>Mansfield Park</td><td>1</td></tr><tr><td>Emma</td><td>1</td></tr><tr><td>The Handmaids Tale</td><td>1</td></tr><tr><td>The Testaments</td><td>1</td></tr><tr><td>The Parable of the Sower</td><td>1</td></tr><tr><td>Little Women</td><td>1</td></tr><tr><td>Still Life</td><td>1</td></tr><tr><td>A Fatal Grace</td><td>1</td></tr><tr><td>The Cruelest Month</td><td>1</td></tr><tr><td>The Murder Stone</td><td>1</td></tr><tr><td>The Brutal Telling</td><td>1</td></tr><tr><td>Bury Your Dead</td><td>1</td></tr><tr><td>A Trick of the Light</td><td>1</td></tr><tr><td>Midnights Children</td><td>1</td></tr><tr><td>Dont Let the Pigeon Drive the Bus!</td><td>1</td></tr><tr><td>Beezus and Ramona</td><td>1</td></tr><tr><td>Organic Chemistry</td><td>1</td></tr><tr><td>I Know Why the Caged Bird Sings</td><td>1</td></tr><tr><td>Beloved</td><td>1</td></tr><tr><td>Brassbones and Rainbows</td><td>1</td></tr></table>"
                    },
                    "metadata": {}
                }
            ],
            "execution_count": 49
        },
        {
            "cell_type": "code",
            "source": [
                "INSERT into JunkDB_STL_Sept2022.sunital.loan(date_out,patron_id,book_id)\r\n",
                "\tVALUES (GETDATE(),10,3) \r\n",
                "UPDATE JunkDB_STL_Sept2022.sunital.loan \r\n",
                "\tSET date_out = GETDATE()\r\n",
                "\t"
            ],
            "metadata": {
                "language": "sql",
                "azdata_cell_guid": "a9209f68-1a47-4459-9ec8-72ff8cef2476"
            },
            "outputs": [
                {
                    "output_type": "display_data",
                    "data": {
                        "text/html": "(1 row affected)"
                    },
                    "metadata": {}
                },
                {
                    "output_type": "display_data",
                    "data": {
                        "text/html": "(1 row affected)"
                    },
                    "metadata": {}
                },
                {
                    "output_type": "display_data",
                    "data": {
                        "text/html": "Total execution time: 00:00:00.084"
                    },
                    "metadata": {}
                }
            ],
            "execution_count": 50
        },
        {
            "cell_type": "code",
            "source": [
                "SELECT*\r\n",
                "FROM JunkDB_STL_Sept2022.sunital.loan"
            ],
            "metadata": {
                "language": "sql",
                "azdata_cell_guid": "2511e8dc-d89a-4af8-a5ed-595ec5e6eb08"
            },
            "outputs": [
                {
                    "output_type": "display_data",
                    "data": {
                        "text/html": "(1 row affected)"
                    },
                    "metadata": {}
                },
                {
                    "output_type": "display_data",
                    "data": {
                        "text/html": "Total execution time: 00:00:00.132"
                    },
                    "metadata": {}
                },
                {
                    "output_type": "execute_result",
                    "execution_count": 51,
                    "data": {
                        "application/vnd.dataresource+json": {
                            "schema": {
                                "fields": [
                                    {
                                        "name": "loan_id"
                                    },
                                    {
                                        "name": "patron_id"
                                    },
                                    {
                                        "name": "date_out"
                                    },
                                    {
                                        "name": "date_in"
                                    },
                                    {
                                        "name": "book_id"
                                    }
                                ]
                            },
                            "data": [
                                {
                                    "0": "14",
                                    "1": "10",
                                    "2": "2023-01-16",
                                    "3": "NULL",
                                    "4": "3"
                                }
                            ]
                        },
                        "text/html": "<table><tr><th>loan_id</th><th>patron_id</th><th>date_out</th><th>date_in</th><th>book_id</th></tr><tr><td>14</td><td>10</td><td>2023-01-16</td><td>NULL</td><td>3</td></tr></table>"
                    },
                    "metadata": {}
                }
            ],
            "execution_count": 51
        },
        {
            "cell_type": "code",
            "source": [
                "UPDATE JunkDB_STL_Sept2022.sunital.patron\r\n",
                "SET loan_id ='14'\r\n",
                "WHERE patron_id =10\r\n",
                ""
            ],
            "metadata": {
                "language": "sql",
                "azdata_cell_guid": "9e6a7856-5bc3-41c0-8411-b563c199009c"
            },
            "outputs": [
                {
                    "output_type": "display_data",
                    "data": {
                        "text/html": "(1 row affected)"
                    },
                    "metadata": {}
                },
                {
                    "output_type": "display_data",
                    "data": {
                        "text/html": "Total execution time: 00:00:00.093"
                    },
                    "metadata": {}
                }
            ],
            "execution_count": 53
        },
        {
            "cell_type": "code",
            "source": [
                "SELECT *\r\n",
                "FROM JunkDB_STL_Sept2022.sunital.patron"
            ],
            "metadata": {
                "language": "sql",
                "azdata_cell_guid": "826b6210-3f99-4f45-b8ab-38b1e1aa4eb3"
            },
            "outputs": [
                {
                    "output_type": "display_data",
                    "data": {
                        "text/html": "(48 rows affected)"
                    },
                    "metadata": {}
                },
                {
                    "output_type": "display_data",
                    "data": {
                        "text/html": "Total execution time: 00:00:00.126"
                    },
                    "metadata": {}
                },
                {
                    "output_type": "execute_result",
                    "execution_count": 54,
                    "data": {
                        "application/vnd.dataresource+json": {
                            "schema": {
                                "fields": [
                                    {
                                        "name": "patron_id"
                                    },
                                    {
                                        "name": "first_name"
                                    },
                                    {
                                        "name": "last_name"
                                    },
                                    {
                                        "name": "loan_id"
                                    }
                                ]
                            },
                            "data": [
                                {
                                    "0": "1",
                                    "1": "Jennifer",
                                    "2": "Slayny",
                                    "3": "NULL"
                                },
                                {
                                    "0": "2",
                                    "1": "Susan",
                                    "2": "Traviss",
                                    "3": "NULL"
                                },
                                {
                                    "0": "3",
                                    "1": "Vincent",
                                    "2": "Ritelli",
                                    "3": "NULL"
                                },
                                {
                                    "0": "4",
                                    "1": "Tasia",
                                    "2": "Laybourne",
                                    "3": "NULL"
                                },
                                {
                                    "0": "5",
                                    "1": "Wren",
                                    "2": "Gergler",
                                    "3": "NULL"
                                },
                                {
                                    "0": "6",
                                    "1": "Tory",
                                    "2": "Lees",
                                    "3": "NULL"
                                },
                                {
                                    "0": "7",
                                    "1": "Estelle",
                                    "2": "Di Lorio",
                                    "3": "NULL"
                                },
                                {
                                    "0": "8",
                                    "1": "Dorian",
                                    "2": "Betje",
                                    "3": "NULL"
                                },
                                {
                                    "0": "9",
                                    "1": "Frank",
                                    "2": "Jelk",
                                    "3": "NULL"
                                },
                                {
                                    "0": "10",
                                    "1": "Chris",
                                    "2": "Endon",
                                    "3": "14"
                                },
                                {
                                    "0": "11",
                                    "1": "Gillie",
                                    "2": "Fritz",
                                    "3": "NULL"
                                },
                                {
                                    "0": "12",
                                    "1": "Leisha",
                                    "2": "Defty",
                                    "3": "NULL"
                                },
                                {
                                    "0": "13",
                                    "1": "Erika",
                                    "2": "Bompass",
                                    "3": "NULL"
                                },
                                {
                                    "0": "14",
                                    "1": "Gabe",
                                    "2": "Moxstead",
                                    "3": "NULL"
                                },
                                {
                                    "0": "15",
                                    "1": "Blake",
                                    "2": "Teresse",
                                    "3": "NULL"
                                },
                                {
                                    "0": "16",
                                    "1": "Joshua",
                                    "2": "Timmouth",
                                    "3": "NULL"
                                },
                                {
                                    "0": "17",
                                    "1": "Tasha",
                                    "2": "Timmouth",
                                    "3": "NULL"
                                },
                                {
                                    "0": "18",
                                    "1": "Neil",
                                    "2": "Davie",
                                    "3": "NULL"
                                },
                                {
                                    "0": "19",
                                    "1": "Emmeline",
                                    "2": "Pitherick",
                                    "3": "NULL"
                                },
                                {
                                    "0": "20",
                                    "1": "Josiah",
                                    "2": "Staner",
                                    "3": "NULL"
                                },
                                {
                                    "0": "21",
                                    "1": "James",
                                    "2": "Greetham",
                                    "3": "NULL"
                                },
                                {
                                    "0": "22",
                                    "1": "Isaac",
                                    "2": "Barstowk",
                                    "3": "NULL"
                                },
                                {
                                    "0": "23",
                                    "1": "Dean",
                                    "2": "Nelane",
                                    "3": "NULL"
                                },
                                {
                                    "0": "24",
                                    "1": "Carolina",
                                    "2": "Cranmere",
                                    "3": "NULL"
                                },
                                {
                                    "0": "25",
                                    "1": "Champ",
                                    "2": "Lardiner",
                                    "3": "NULL"
                                },
                                {
                                    "0": "26",
                                    "1": "Abbie",
                                    "2": "Quaif",
                                    "3": "NULL"
                                },
                                {
                                    "0": "27",
                                    "1": "Camile",
                                    "2": "Milbourne",
                                    "3": "NULL"
                                },
                                {
                                    "0": "28",
                                    "1": "Quentin",
                                    "2": "Crose",
                                    "3": "NULL"
                                },
                                {
                                    "0": "29",
                                    "1": "Silvano",
                                    "2": "Horlick",
                                    "3": "NULL"
                                },
                                {
                                    "0": "30",
                                    "1": "Phyllis",
                                    "2": "Cicchillo",
                                    "3": "NULL"
                                },
                                {
                                    "0": "31",
                                    "1": "Jerrie",
                                    "2": "Brownhall",
                                    "3": "NULL"
                                },
                                {
                                    "0": "32",
                                    "1": "Ludovika",
                                    "2": "Leist",
                                    "3": "NULL"
                                },
                                {
                                    "0": "33",
                                    "1": "Tara",
                                    "2": "Knatt",
                                    "3": "NULL"
                                },
                                {
                                    "0": "34",
                                    "1": "Kelsie",
                                    "2": "Parkson",
                                    "3": "NULL"
                                },
                                {
                                    "0": "35",
                                    "1": "Jodi",
                                    "2": "Leopard",
                                    "3": "NULL"
                                },
                                {
                                    "0": "36",
                                    "1": "Rosanna",
                                    "2": "Cultcheth",
                                    "3": "NULL"
                                },
                                {
                                    "0": "37",
                                    "1": "Remy",
                                    "2": "Fairpool",
                                    "3": "NULL"
                                },
                                {
                                    "0": "38",
                                    "1": "Megan",
                                    "2": "Blyth",
                                    "3": "NULL"
                                },
                                {
                                    "0": "39",
                                    "1": "Rikki",
                                    "2": "McLernon",
                                    "3": "NULL"
                                },
                                {
                                    "0": "40",
                                    "1": "Clare",
                                    "2": "Haacker",
                                    "3": "NULL"
                                },
                                {
                                    "0": "41",
                                    "1": "Vincent",
                                    "2": "Chettle",
                                    "3": "NULL"
                                },
                                {
                                    "0": "42",
                                    "1": "Sybil",
                                    "2": "Costanza",
                                    "3": "NULL"
                                },
                                {
                                    "0": "43",
                                    "1": "Jonas",
                                    "2": "Sinclare",
                                    "3": "NULL"
                                },
                                {
                                    "0": "44",
                                    "1": "Claire",
                                    "2": "Bendel",
                                    "3": "NULL"
                                },
                                {
                                    "0": "45",
                                    "1": "Kathleen",
                                    "2": "Welband",
                                    "3": "NULL"
                                },
                                {
                                    "0": "46",
                                    "1": "Kylie",
                                    "2": "Crannage",
                                    "3": "NULL"
                                },
                                {
                                    "0": "47",
                                    "1": "Evelyn",
                                    "2": "Tarajo",
                                    "3": "NULL"
                                },
                                {
                                    "0": "48",
                                    "1": "Oliver",
                                    "2": "Caulson",
                                    "3": "NULL"
                                }
                            ]
                        },
                        "text/html": "<table><tr><th>patron_id</th><th>first_name</th><th>last_name</th><th>loan_id</th></tr><tr><td>1</td><td>Jennifer</td><td>Slayny</td><td>NULL</td></tr><tr><td>2</td><td>Susan</td><td>Traviss</td><td>NULL</td></tr><tr><td>3</td><td>Vincent</td><td>Ritelli</td><td>NULL</td></tr><tr><td>4</td><td>Tasia</td><td>Laybourne</td><td>NULL</td></tr><tr><td>5</td><td>Wren</td><td>Gergler</td><td>NULL</td></tr><tr><td>6</td><td>Tory</td><td>Lees</td><td>NULL</td></tr><tr><td>7</td><td>Estelle</td><td>Di Lorio</td><td>NULL</td></tr><tr><td>8</td><td>Dorian</td><td>Betje</td><td>NULL</td></tr><tr><td>9</td><td>Frank</td><td>Jelk</td><td>NULL</td></tr><tr><td>10</td><td>Chris</td><td>Endon</td><td>14</td></tr><tr><td>11</td><td>Gillie</td><td>Fritz</td><td>NULL</td></tr><tr><td>12</td><td>Leisha</td><td>Defty</td><td>NULL</td></tr><tr><td>13</td><td>Erika</td><td>Bompass</td><td>NULL</td></tr><tr><td>14</td><td>Gabe</td><td>Moxstead</td><td>NULL</td></tr><tr><td>15</td><td>Blake</td><td>Teresse</td><td>NULL</td></tr><tr><td>16</td><td>Joshua</td><td>Timmouth</td><td>NULL</td></tr><tr><td>17</td><td>Tasha</td><td>Timmouth</td><td>NULL</td></tr><tr><td>18</td><td>Neil</td><td>Davie</td><td>NULL</td></tr><tr><td>19</td><td>Emmeline</td><td>Pitherick</td><td>NULL</td></tr><tr><td>20</td><td>Josiah</td><td>Staner</td><td>NULL</td></tr><tr><td>21</td><td>James</td><td>Greetham</td><td>NULL</td></tr><tr><td>22</td><td>Isaac</td><td>Barstowk</td><td>NULL</td></tr><tr><td>23</td><td>Dean</td><td>Nelane</td><td>NULL</td></tr><tr><td>24</td><td>Carolina</td><td>Cranmere</td><td>NULL</td></tr><tr><td>25</td><td>Champ</td><td>Lardiner</td><td>NULL</td></tr><tr><td>26</td><td>Abbie</td><td>Quaif</td><td>NULL</td></tr><tr><td>27</td><td>Camile</td><td>Milbourne</td><td>NULL</td></tr><tr><td>28</td><td>Quentin</td><td>Crose</td><td>NULL</td></tr><tr><td>29</td><td>Silvano</td><td>Horlick</td><td>NULL</td></tr><tr><td>30</td><td>Phyllis</td><td>Cicchillo</td><td>NULL</td></tr><tr><td>31</td><td>Jerrie</td><td>Brownhall</td><td>NULL</td></tr><tr><td>32</td><td>Ludovika</td><td>Leist</td><td>NULL</td></tr><tr><td>33</td><td>Tara</td><td>Knatt</td><td>NULL</td></tr><tr><td>34</td><td>Kelsie</td><td>Parkson</td><td>NULL</td></tr><tr><td>35</td><td>Jodi</td><td>Leopard</td><td>NULL</td></tr><tr><td>36</td><td>Rosanna</td><td>Cultcheth</td><td>NULL</td></tr><tr><td>37</td><td>Remy</td><td>Fairpool</td><td>NULL</td></tr><tr><td>38</td><td>Megan</td><td>Blyth</td><td>NULL</td></tr><tr><td>39</td><td>Rikki</td><td>McLernon</td><td>NULL</td></tr><tr><td>40</td><td>Clare</td><td>Haacker</td><td>NULL</td></tr><tr><td>41</td><td>Vincent</td><td>Chettle</td><td>NULL</td></tr><tr><td>42</td><td>Sybil</td><td>Costanza</td><td>NULL</td></tr><tr><td>43</td><td>Jonas</td><td>Sinclare</td><td>NULL</td></tr><tr><td>44</td><td>Claire</td><td>Bendel</td><td>NULL</td></tr><tr><td>45</td><td>Kathleen</td><td>Welband</td><td>NULL</td></tr><tr><td>46</td><td>Kylie</td><td>Crannage</td><td>NULL</td></tr><tr><td>47</td><td>Evelyn</td><td>Tarajo</td><td>NULL</td></tr><tr><td>48</td><td>Oliver</td><td>Caulson</td><td>NULL</td></tr></table>"
                    },
                    "metadata": {}
                }
            ],
            "execution_count": 54
        },
        {
            "cell_type": "markdown",
            "source": [
                "## **Part D: Check a Book Back In**\n",
                "\n",
                "Work with the same patron and book as you create your query to check a book back into the library.\n",
                "\n",
                "The check a book back in, your query need to do the following:\n",
                "\n",
                "1. Change **available** to **1** (true) for the appropriate book.\n",
                "    \n",
                "2. Update the appropriate row in the **loan** table with today's date as the **date\\_in**.\n",
                "    \n",
                "3. Update the appropriate **patron** changing **loan\\_id** back to **NULL**.\n",
                "    \n",
                "\n",
                "Once you have created these queries, loan out 5 new books to 5 different patrons."
            ],
            "metadata": {
                "azdata_cell_guid": "21923b69-f92c-4f86-af0a-230df894c696"
            },
            "attachments": {}
        },
        {
            "cell_type": "code",
            "source": [
                "-- Create your Check a Book Back In query:\n",
                "SELECT title , available\n",
                "FROM JunkDB_STL_Sept2022.sunital.book\n",
                "UPDATE JunkDB_STL_Sept2022.sunital.book\n",
                "SET available = 1\n",
                "WHERE book_id = '3' \n",
                ""
            ],
            "metadata": {
                "azdata_cell_guid": "80a81994-48b8-4b9e-a09c-5124e3fc85b2",
                "language": "sql",
                "tags": []
            },
            "outputs": [
                {
                    "output_type": "display_data",
                    "data": {
                        "text/html": "(64 rows affected)"
                    },
                    "metadata": {}
                },
                {
                    "output_type": "display_data",
                    "data": {
                        "text/html": "(1 row affected)"
                    },
                    "metadata": {}
                },
                {
                    "output_type": "display_data",
                    "data": {
                        "text/html": "Total execution time: 00:00:00.098"
                    },
                    "metadata": {}
                },
                {
                    "output_type": "execute_result",
                    "execution_count": 56,
                    "data": {
                        "application/vnd.dataresource+json": {
                            "schema": {
                                "fields": [
                                    {
                                        "name": "title"
                                    },
                                    {
                                        "name": "available"
                                    }
                                ]
                            },
                            "data": [
                                {
                                    "0": "A Midsummers Night Dream",
                                    "1": "1"
                                },
                                {
                                    "0": "Romeo and Juliet",
                                    "1": "1"
                                },
                                {
                                    "0": "The Golden Compass",
                                    "1": "1"
                                },
                                {
                                    "0": "The Subtle Knife",
                                    "1": "1"
                                },
                                {
                                    "0": "The Amber Spyglass",
                                    "1": "1"
                                },
                                {
                                    "0": "The Alchemist",
                                    "1": "1"
                                },
                                {
                                    "0": "And Then There Were None",
                                    "1": "1"
                                },
                                {
                                    "0": "The Joy Luck Club",
                                    "1": "1"
                                },
                                {
                                    "0": "The Moon Lady",
                                    "1": "1"
                                },
                                {
                                    "0": "Sense and Sensibility",
                                    "1": "1"
                                },
                                {
                                    "0": "Northanger Abbey",
                                    "1": "1"
                                },
                                {
                                    "0": "Pride and Prejudice",
                                    "1": "1"
                                },
                                {
                                    "0": "Mansfield Park",
                                    "1": "1"
                                },
                                {
                                    "0": "Emma",
                                    "1": "1"
                                },
                                {
                                    "0": "The Handmaids Tale",
                                    "1": "0"
                                },
                                {
                                    "0": "The Testaments",
                                    "1": "1"
                                },
                                {
                                    "0": "The Parable of the Sower",
                                    "1": "1"
                                },
                                {
                                    "0": "Little Women",
                                    "1": "1"
                                },
                                {
                                    "0": "Still Life",
                                    "1": "1"
                                },
                                {
                                    "0": "A Fatal Grace",
                                    "1": "1"
                                },
                                {
                                    "0": "The Cruelest Month",
                                    "1": "1"
                                },
                                {
                                    "0": "The Murder Stone",
                                    "1": "1"
                                },
                                {
                                    "0": "The Brutal Telling",
                                    "1": "1"
                                },
                                {
                                    "0": "Bury Your Dead",
                                    "1": "1"
                                },
                                {
                                    "0": "A Trick of the Light",
                                    "1": "1"
                                },
                                {
                                    "0": "Midnights Children",
                                    "1": "1"
                                },
                                {
                                    "0": "Dont Let the Pigeon Drive the Bus!",
                                    "1": "1"
                                },
                                {
                                    "0": "Beezus and Ramona",
                                    "1": "1"
                                },
                                {
                                    "0": "Organic Chemistry",
                                    "1": "1"
                                },
                                {
                                    "0": "I Know Why the Caged Bird Sings",
                                    "1": "1"
                                },
                                {
                                    "0": "Beloved",
                                    "1": "1"
                                },
                                {
                                    "0": "Brassbones and Rainbows",
                                    "1": "1"
                                },
                                {
                                    "0": "A Midsummers Night Dream",
                                    "1": "1"
                                },
                                {
                                    "0": "Romeo and Juliet",
                                    "1": "1"
                                },
                                {
                                    "0": "The Golden Compass",
                                    "1": "1"
                                },
                                {
                                    "0": "The Subtle Knife",
                                    "1": "1"
                                },
                                {
                                    "0": "The Amber Spyglass",
                                    "1": "1"
                                },
                                {
                                    "0": "The Alchemist",
                                    "1": "1"
                                },
                                {
                                    "0": "And Then There Were None",
                                    "1": "1"
                                },
                                {
                                    "0": "The Joy Luck Club",
                                    "1": "1"
                                },
                                {
                                    "0": "The Moon Lady",
                                    "1": "1"
                                },
                                {
                                    "0": "Sense and Sensibility",
                                    "1": "1"
                                },
                                {
                                    "0": "Northanger Abbey",
                                    "1": "1"
                                },
                                {
                                    "0": "Pride and Prejudice",
                                    "1": "1"
                                },
                                {
                                    "0": "Mansfield Park",
                                    "1": "1"
                                },
                                {
                                    "0": "Emma",
                                    "1": "1"
                                },
                                {
                                    "0": "The Handmaids Tale",
                                    "1": "1"
                                },
                                {
                                    "0": "The Testaments",
                                    "1": "1"
                                },
                                {
                                    "0": "The Parable of the Sower",
                                    "1": "1"
                                },
                                {
                                    "0": "Little Women",
                                    "1": "1"
                                },
                                {
                                    "0": "Still Life",
                                    "1": "1"
                                },
                                {
                                    "0": "A Fatal Grace",
                                    "1": "1"
                                },
                                {
                                    "0": "The Cruelest Month",
                                    "1": "1"
                                },
                                {
                                    "0": "The Murder Stone",
                                    "1": "1"
                                },
                                {
                                    "0": "The Brutal Telling",
                                    "1": "1"
                                },
                                {
                                    "0": "Bury Your Dead",
                                    "1": "1"
                                },
                                {
                                    "0": "A Trick of the Light",
                                    "1": "1"
                                },
                                {
                                    "0": "Midnights Children",
                                    "1": "1"
                                },
                                {
                                    "0": "Dont Let the Pigeon Drive the Bus!",
                                    "1": "1"
                                },
                                {
                                    "0": "Beezus and Ramona",
                                    "1": "1"
                                },
                                {
                                    "0": "Organic Chemistry",
                                    "1": "1"
                                },
                                {
                                    "0": "I Know Why the Caged Bird Sings",
                                    "1": "1"
                                },
                                {
                                    "0": "Beloved",
                                    "1": "1"
                                },
                                {
                                    "0": "Brassbones and Rainbows",
                                    "1": "1"
                                }
                            ]
                        },
                        "text/html": "<table><tr><th>title</th><th>available</th></tr><tr><td>A Midsummers Night Dream</td><td>1</td></tr><tr><td>Romeo and Juliet</td><td>1</td></tr><tr><td>The Golden Compass</td><td>1</td></tr><tr><td>The Subtle Knife</td><td>1</td></tr><tr><td>The Amber Spyglass</td><td>1</td></tr><tr><td>The Alchemist</td><td>1</td></tr><tr><td>And Then There Were None</td><td>1</td></tr><tr><td>The Joy Luck Club</td><td>1</td></tr><tr><td>The Moon Lady</td><td>1</td></tr><tr><td>Sense and Sensibility</td><td>1</td></tr><tr><td>Northanger Abbey</td><td>1</td></tr><tr><td>Pride and Prejudice</td><td>1</td></tr><tr><td>Mansfield Park</td><td>1</td></tr><tr><td>Emma</td><td>1</td></tr><tr><td>The Handmaids Tale</td><td>0</td></tr><tr><td>The Testaments</td><td>1</td></tr><tr><td>The Parable of the Sower</td><td>1</td></tr><tr><td>Little Women</td><td>1</td></tr><tr><td>Still Life</td><td>1</td></tr><tr><td>A Fatal Grace</td><td>1</td></tr><tr><td>The Cruelest Month</td><td>1</td></tr><tr><td>The Murder Stone</td><td>1</td></tr><tr><td>The Brutal Telling</td><td>1</td></tr><tr><td>Bury Your Dead</td><td>1</td></tr><tr><td>A Trick of the Light</td><td>1</td></tr><tr><td>Midnights Children</td><td>1</td></tr><tr><td>Dont Let the Pigeon Drive the Bus!</td><td>1</td></tr><tr><td>Beezus and Ramona</td><td>1</td></tr><tr><td>Organic Chemistry</td><td>1</td></tr><tr><td>I Know Why the Caged Bird Sings</td><td>1</td></tr><tr><td>Beloved</td><td>1</td></tr><tr><td>Brassbones and Rainbows</td><td>1</td></tr><tr><td>A Midsummers Night Dream</td><td>1</td></tr><tr><td>Romeo and Juliet</td><td>1</td></tr><tr><td>The Golden Compass</td><td>1</td></tr><tr><td>The Subtle Knife</td><td>1</td></tr><tr><td>The Amber Spyglass</td><td>1</td></tr><tr><td>The Alchemist</td><td>1</td></tr><tr><td>And Then There Were None</td><td>1</td></tr><tr><td>The Joy Luck Club</td><td>1</td></tr><tr><td>The Moon Lady</td><td>1</td></tr><tr><td>Sense and Sensibility</td><td>1</td></tr><tr><td>Northanger Abbey</td><td>1</td></tr><tr><td>Pride and Prejudice</td><td>1</td></tr><tr><td>Mansfield Park</td><td>1</td></tr><tr><td>Emma</td><td>1</td></tr><tr><td>The Handmaids Tale</td><td>1</td></tr><tr><td>The Testaments</td><td>1</td></tr><tr><td>The Parable of the Sower</td><td>1</td></tr><tr><td>Little Women</td><td>1</td></tr><tr><td>Still Life</td><td>1</td></tr><tr><td>A Fatal Grace</td><td>1</td></tr><tr><td>The Cruelest Month</td><td>1</td></tr><tr><td>The Murder Stone</td><td>1</td></tr><tr><td>The Brutal Telling</td><td>1</td></tr><tr><td>Bury Your Dead</td><td>1</td></tr><tr><td>A Trick of the Light</td><td>1</td></tr><tr><td>Midnights Children</td><td>1</td></tr><tr><td>Dont Let the Pigeon Drive the Bus!</td><td>1</td></tr><tr><td>Beezus and Ramona</td><td>1</td></tr><tr><td>Organic Chemistry</td><td>1</td></tr><tr><td>I Know Why the Caged Bird Sings</td><td>1</td></tr><tr><td>Beloved</td><td>1</td></tr><tr><td>Brassbones and Rainbows</td><td>1</td></tr></table>"
                    },
                    "metadata": {}
                }
            ],
            "execution_count": 56
        },
        {
            "cell_type": "code",
            "source": [
                "INSERT into JunkDB_STL_Sept2022.sunital.loan(date_in,patron_id,book_id)\r\n",
                "\tVALUES (GETDATE(),10,3) \r\n",
                "UPDATE JunkDB_STL_Sept2022.sunital.loan \r\n",
                "\tSET date_in = GETDATE()\r\n",
                "\t\r\n",
                ""
            ],
            "metadata": {
                "language": "sql",
                "azdata_cell_guid": "7d8b6166-fc89-42c4-ad60-4a76fe061ce3"
            },
            "outputs": [
                {
                    "output_type": "display_data",
                    "data": {
                        "text/html": "(1 row affected)"
                    },
                    "metadata": {}
                },
                {
                    "output_type": "display_data",
                    "data": {
                        "text/html": "(2 rows affected)"
                    },
                    "metadata": {}
                },
                {
                    "output_type": "display_data",
                    "data": {
                        "text/html": "Total execution time: 00:00:00.049"
                    },
                    "metadata": {}
                }
            ],
            "execution_count": 57
        },
        {
            "cell_type": "code",
            "source": [
                "SELECT*\r\n",
                "FROM JunkDB_STL_Sept2022.sunital.loan"
            ],
            "metadata": {
                "language": "sql",
                "azdata_cell_guid": "b1cde465-e6ee-46d9-8c8b-d10f6ba9166b",
                "tags": []
            },
            "outputs": [
                {
                    "output_type": "display_data",
                    "data": {
                        "text/html": "(2 rows affected)"
                    },
                    "metadata": {}
                },
                {
                    "output_type": "display_data",
                    "data": {
                        "text/html": "Total execution time: 00:00:00.061"
                    },
                    "metadata": {}
                },
                {
                    "output_type": "execute_result",
                    "execution_count": 58,
                    "data": {
                        "application/vnd.dataresource+json": {
                            "schema": {
                                "fields": [
                                    {
                                        "name": "loan_id"
                                    },
                                    {
                                        "name": "patron_id"
                                    },
                                    {
                                        "name": "date_out"
                                    },
                                    {
                                        "name": "date_in"
                                    },
                                    {
                                        "name": "book_id"
                                    }
                                ]
                            },
                            "data": [
                                {
                                    "0": "14",
                                    "1": "10",
                                    "2": "2023-01-16",
                                    "3": "2023-01-16",
                                    "4": "3"
                                },
                                {
                                    "0": "15",
                                    "1": "10",
                                    "2": "NULL",
                                    "3": "2023-01-16",
                                    "4": "3"
                                }
                            ]
                        },
                        "text/html": "<table><tr><th>loan_id</th><th>patron_id</th><th>date_out</th><th>date_in</th><th>book_id</th></tr><tr><td>14</td><td>10</td><td>2023-01-16</td><td>2023-01-16</td><td>3</td></tr><tr><td>15</td><td>10</td><td>NULL</td><td>2023-01-16</td><td>3</td></tr></table>"
                    },
                    "metadata": {}
                }
            ],
            "execution_count": 58
        },
        {
            "cell_type": "code",
            "source": [
                "DELETE from JunkDB_STL_Sept2022.sunital.loan\r\n",
                "where date_out is null "
            ],
            "metadata": {
                "language": "sql",
                "azdata_cell_guid": "e5e42304-5204-4253-bcef-91e556608e67"
            },
            "outputs": [
                {
                    "output_type": "display_data",
                    "data": {
                        "text/html": "(1 row affected)"
                    },
                    "metadata": {}
                },
                {
                    "output_type": "display_data",
                    "data": {
                        "text/html": "Total execution time: 00:00:00.076"
                    },
                    "metadata": {}
                }
            ],
            "execution_count": 59
        },
        {
            "cell_type": "code",
            "source": [
                "SELECT*\r\n",
                "FROM JunkDB_STL_Sept2022.sunital.loan"
            ],
            "metadata": {
                "language": "sql",
                "azdata_cell_guid": "e1947a04-101d-4a60-887e-2923ac770aec"
            },
            "outputs": [
                {
                    "output_type": "display_data",
                    "data": {
                        "text/html": "(1 row affected)"
                    },
                    "metadata": {}
                },
                {
                    "output_type": "display_data",
                    "data": {
                        "text/html": "Total execution time: 00:00:00.100"
                    },
                    "metadata": {}
                },
                {
                    "output_type": "execute_result",
                    "execution_count": 62,
                    "data": {
                        "application/vnd.dataresource+json": {
                            "schema": {
                                "fields": [
                                    {
                                        "name": "loan_id"
                                    },
                                    {
                                        "name": "patron_id"
                                    },
                                    {
                                        "name": "date_out"
                                    },
                                    {
                                        "name": "date_in"
                                    },
                                    {
                                        "name": "book_id"
                                    }
                                ]
                            },
                            "data": [
                                {
                                    "0": "14",
                                    "1": "10",
                                    "2": "2023-01-16",
                                    "3": "2023-01-16",
                                    "4": "3"
                                }
                            ]
                        },
                        "text/html": "<table><tr><th>loan_id</th><th>patron_id</th><th>date_out</th><th>date_in</th><th>book_id</th></tr><tr><td>14</td><td>10</td><td>2023-01-16</td><td>2023-01-16</td><td>3</td></tr></table>"
                    },
                    "metadata": {}
                }
            ],
            "execution_count": 62
        },
        {
            "cell_type": "code",
            "source": [
                "UPDATE JunkDB_STL_Sept2022.sunital.patron\r\n",
                "SET loan_id = Null\r\n",
                "WHERE patron_id ='10'\r\n",
                "\r\n",
                ""
            ],
            "metadata": {
                "language": "sql",
                "azdata_cell_guid": "d971fc68-8e82-4fa9-a4d8-f11799d9ec32",
                "tags": []
            },
            "outputs": [
                {
                    "output_type": "display_data",
                    "data": {
                        "text/html": "(1 row affected)"
                    },
                    "metadata": {}
                },
                {
                    "output_type": "display_data",
                    "data": {
                        "text/html": "Total execution time: 00:00:00.120"
                    },
                    "metadata": {}
                }
            ],
            "execution_count": 69
        },
        {
            "cell_type": "code",
            "source": [
                "SELECT *\r\n",
                "FROM JunkDB_STL_Sept2022.sunital.patron"
            ],
            "metadata": {
                "language": "sql",
                "azdata_cell_guid": "c04fb63f-e9bc-4008-9680-b257bbcc7530"
            },
            "outputs": [
                {
                    "output_type": "display_data",
                    "data": {
                        "text/html": "(48 rows affected)"
                    },
                    "metadata": {}
                },
                {
                    "output_type": "display_data",
                    "data": {
                        "text/html": "Total execution time: 00:00:00.097"
                    },
                    "metadata": {}
                },
                {
                    "output_type": "execute_result",
                    "execution_count": 70,
                    "data": {
                        "application/vnd.dataresource+json": {
                            "schema": {
                                "fields": [
                                    {
                                        "name": "patron_id"
                                    },
                                    {
                                        "name": "first_name"
                                    },
                                    {
                                        "name": "last_name"
                                    },
                                    {
                                        "name": "loan_id"
                                    }
                                ]
                            },
                            "data": [
                                {
                                    "0": "1",
                                    "1": "Jennifer",
                                    "2": "Slayny",
                                    "3": "NULL"
                                },
                                {
                                    "0": "2",
                                    "1": "Susan",
                                    "2": "Traviss",
                                    "3": "NULL"
                                },
                                {
                                    "0": "3",
                                    "1": "Vincent",
                                    "2": "Ritelli",
                                    "3": "NULL"
                                },
                                {
                                    "0": "4",
                                    "1": "Tasia",
                                    "2": "Laybourne",
                                    "3": "NULL"
                                },
                                {
                                    "0": "5",
                                    "1": "Wren",
                                    "2": "Gergler",
                                    "3": "NULL"
                                },
                                {
                                    "0": "6",
                                    "1": "Tory",
                                    "2": "Lees",
                                    "3": "NULL"
                                },
                                {
                                    "0": "7",
                                    "1": "Estelle",
                                    "2": "Di Lorio",
                                    "3": "NULL"
                                },
                                {
                                    "0": "8",
                                    "1": "Dorian",
                                    "2": "Betje",
                                    "3": "NULL"
                                },
                                {
                                    "0": "9",
                                    "1": "Frank",
                                    "2": "Jelk",
                                    "3": "NULL"
                                },
                                {
                                    "0": "10",
                                    "1": "Chris",
                                    "2": "Endon",
                                    "3": "NULL"
                                },
                                {
                                    "0": "11",
                                    "1": "Gillie",
                                    "2": "Fritz",
                                    "3": "NULL"
                                },
                                {
                                    "0": "12",
                                    "1": "Leisha",
                                    "2": "Defty",
                                    "3": "NULL"
                                },
                                {
                                    "0": "13",
                                    "1": "Erika",
                                    "2": "Bompass",
                                    "3": "NULL"
                                },
                                {
                                    "0": "14",
                                    "1": "Gabe",
                                    "2": "Moxstead",
                                    "3": "NULL"
                                },
                                {
                                    "0": "15",
                                    "1": "Blake",
                                    "2": "Teresse",
                                    "3": "NULL"
                                },
                                {
                                    "0": "16",
                                    "1": "Joshua",
                                    "2": "Timmouth",
                                    "3": "NULL"
                                },
                                {
                                    "0": "17",
                                    "1": "Tasha",
                                    "2": "Timmouth",
                                    "3": "NULL"
                                },
                                {
                                    "0": "18",
                                    "1": "Neil",
                                    "2": "Davie",
                                    "3": "NULL"
                                },
                                {
                                    "0": "19",
                                    "1": "Emmeline",
                                    "2": "Pitherick",
                                    "3": "NULL"
                                },
                                {
                                    "0": "20",
                                    "1": "Josiah",
                                    "2": "Staner",
                                    "3": "NULL"
                                },
                                {
                                    "0": "21",
                                    "1": "James",
                                    "2": "Greetham",
                                    "3": "NULL"
                                },
                                {
                                    "0": "22",
                                    "1": "Isaac",
                                    "2": "Barstowk",
                                    "3": "NULL"
                                },
                                {
                                    "0": "23",
                                    "1": "Dean",
                                    "2": "Nelane",
                                    "3": "NULL"
                                },
                                {
                                    "0": "24",
                                    "1": "Carolina",
                                    "2": "Cranmere",
                                    "3": "NULL"
                                },
                                {
                                    "0": "25",
                                    "1": "Champ",
                                    "2": "Lardiner",
                                    "3": "NULL"
                                },
                                {
                                    "0": "26",
                                    "1": "Abbie",
                                    "2": "Quaif",
                                    "3": "NULL"
                                },
                                {
                                    "0": "27",
                                    "1": "Camile",
                                    "2": "Milbourne",
                                    "3": "NULL"
                                },
                                {
                                    "0": "28",
                                    "1": "Quentin",
                                    "2": "Crose",
                                    "3": "NULL"
                                },
                                {
                                    "0": "29",
                                    "1": "Silvano",
                                    "2": "Horlick",
                                    "3": "NULL"
                                },
                                {
                                    "0": "30",
                                    "1": "Phyllis",
                                    "2": "Cicchillo",
                                    "3": "NULL"
                                },
                                {
                                    "0": "31",
                                    "1": "Jerrie",
                                    "2": "Brownhall",
                                    "3": "NULL"
                                },
                                {
                                    "0": "32",
                                    "1": "Ludovika",
                                    "2": "Leist",
                                    "3": "NULL"
                                },
                                {
                                    "0": "33",
                                    "1": "Tara",
                                    "2": "Knatt",
                                    "3": "NULL"
                                },
                                {
                                    "0": "34",
                                    "1": "Kelsie",
                                    "2": "Parkson",
                                    "3": "NULL"
                                },
                                {
                                    "0": "35",
                                    "1": "Jodi",
                                    "2": "Leopard",
                                    "3": "NULL"
                                },
                                {
                                    "0": "36",
                                    "1": "Rosanna",
                                    "2": "Cultcheth",
                                    "3": "NULL"
                                },
                                {
                                    "0": "37",
                                    "1": "Remy",
                                    "2": "Fairpool",
                                    "3": "NULL"
                                },
                                {
                                    "0": "38",
                                    "1": "Megan",
                                    "2": "Blyth",
                                    "3": "NULL"
                                },
                                {
                                    "0": "39",
                                    "1": "Rikki",
                                    "2": "McLernon",
                                    "3": "NULL"
                                },
                                {
                                    "0": "40",
                                    "1": "Clare",
                                    "2": "Haacker",
                                    "3": "NULL"
                                },
                                {
                                    "0": "41",
                                    "1": "Vincent",
                                    "2": "Chettle",
                                    "3": "NULL"
                                },
                                {
                                    "0": "42",
                                    "1": "Sybil",
                                    "2": "Costanza",
                                    "3": "NULL"
                                },
                                {
                                    "0": "43",
                                    "1": "Jonas",
                                    "2": "Sinclare",
                                    "3": "NULL"
                                },
                                {
                                    "0": "44",
                                    "1": "Claire",
                                    "2": "Bendel",
                                    "3": "NULL"
                                },
                                {
                                    "0": "45",
                                    "1": "Kathleen",
                                    "2": "Welband",
                                    "3": "NULL"
                                },
                                {
                                    "0": "46",
                                    "1": "Kylie",
                                    "2": "Crannage",
                                    "3": "NULL"
                                },
                                {
                                    "0": "47",
                                    "1": "Evelyn",
                                    "2": "Tarajo",
                                    "3": "NULL"
                                },
                                {
                                    "0": "48",
                                    "1": "Oliver",
                                    "2": "Caulson",
                                    "3": "NULL"
                                }
                            ]
                        },
                        "text/html": "<table><tr><th>patron_id</th><th>first_name</th><th>last_name</th><th>loan_id</th></tr><tr><td>1</td><td>Jennifer</td><td>Slayny</td><td>NULL</td></tr><tr><td>2</td><td>Susan</td><td>Traviss</td><td>NULL</td></tr><tr><td>3</td><td>Vincent</td><td>Ritelli</td><td>NULL</td></tr><tr><td>4</td><td>Tasia</td><td>Laybourne</td><td>NULL</td></tr><tr><td>5</td><td>Wren</td><td>Gergler</td><td>NULL</td></tr><tr><td>6</td><td>Tory</td><td>Lees</td><td>NULL</td></tr><tr><td>7</td><td>Estelle</td><td>Di Lorio</td><td>NULL</td></tr><tr><td>8</td><td>Dorian</td><td>Betje</td><td>NULL</td></tr><tr><td>9</td><td>Frank</td><td>Jelk</td><td>NULL</td></tr><tr><td>10</td><td>Chris</td><td>Endon</td><td>NULL</td></tr><tr><td>11</td><td>Gillie</td><td>Fritz</td><td>NULL</td></tr><tr><td>12</td><td>Leisha</td><td>Defty</td><td>NULL</td></tr><tr><td>13</td><td>Erika</td><td>Bompass</td><td>NULL</td></tr><tr><td>14</td><td>Gabe</td><td>Moxstead</td><td>NULL</td></tr><tr><td>15</td><td>Blake</td><td>Teresse</td><td>NULL</td></tr><tr><td>16</td><td>Joshua</td><td>Timmouth</td><td>NULL</td></tr><tr><td>17</td><td>Tasha</td><td>Timmouth</td><td>NULL</td></tr><tr><td>18</td><td>Neil</td><td>Davie</td><td>NULL</td></tr><tr><td>19</td><td>Emmeline</td><td>Pitherick</td><td>NULL</td></tr><tr><td>20</td><td>Josiah</td><td>Staner</td><td>NULL</td></tr><tr><td>21</td><td>James</td><td>Greetham</td><td>NULL</td></tr><tr><td>22</td><td>Isaac</td><td>Barstowk</td><td>NULL</td></tr><tr><td>23</td><td>Dean</td><td>Nelane</td><td>NULL</td></tr><tr><td>24</td><td>Carolina</td><td>Cranmere</td><td>NULL</td></tr><tr><td>25</td><td>Champ</td><td>Lardiner</td><td>NULL</td></tr><tr><td>26</td><td>Abbie</td><td>Quaif</td><td>NULL</td></tr><tr><td>27</td><td>Camile</td><td>Milbourne</td><td>NULL</td></tr><tr><td>28</td><td>Quentin</td><td>Crose</td><td>NULL</td></tr><tr><td>29</td><td>Silvano</td><td>Horlick</td><td>NULL</td></tr><tr><td>30</td><td>Phyllis</td><td>Cicchillo</td><td>NULL</td></tr><tr><td>31</td><td>Jerrie</td><td>Brownhall</td><td>NULL</td></tr><tr><td>32</td><td>Ludovika</td><td>Leist</td><td>NULL</td></tr><tr><td>33</td><td>Tara</td><td>Knatt</td><td>NULL</td></tr><tr><td>34</td><td>Kelsie</td><td>Parkson</td><td>NULL</td></tr><tr><td>35</td><td>Jodi</td><td>Leopard</td><td>NULL</td></tr><tr><td>36</td><td>Rosanna</td><td>Cultcheth</td><td>NULL</td></tr><tr><td>37</td><td>Remy</td><td>Fairpool</td><td>NULL</td></tr><tr><td>38</td><td>Megan</td><td>Blyth</td><td>NULL</td></tr><tr><td>39</td><td>Rikki</td><td>McLernon</td><td>NULL</td></tr><tr><td>40</td><td>Clare</td><td>Haacker</td><td>NULL</td></tr><tr><td>41</td><td>Vincent</td><td>Chettle</td><td>NULL</td></tr><tr><td>42</td><td>Sybil</td><td>Costanza</td><td>NULL</td></tr><tr><td>43</td><td>Jonas</td><td>Sinclare</td><td>NULL</td></tr><tr><td>44</td><td>Claire</td><td>Bendel</td><td>NULL</td></tr><tr><td>45</td><td>Kathleen</td><td>Welband</td><td>NULL</td></tr><tr><td>46</td><td>Kylie</td><td>Crannage</td><td>NULL</td></tr><tr><td>47</td><td>Evelyn</td><td>Tarajo</td><td>NULL</td></tr><tr><td>48</td><td>Oliver</td><td>Caulson</td><td>NULL</td></tr></table>"
                    },
                    "metadata": {}
                }
            ],
            "execution_count": 70
        },
        {
            "cell_type": "code",
            "source": [
                "SELECT title , available\r\n",
                "FROM JunkDB_STL_Sept2022.sunital.book\r\n",
                "UPDATE JunkDB_STL_Sept2022.sunital.book\r\n",
                "SET available = 0\r\n",
                "WHERE book_id = '3' AND book_id= '12' AND book_id='6' and book_id='8' and book_id='20'\r\n",
                "\r\n",
                "INSERT into JunkDB_STL_Sept2022.sunital.loan(date_out,patron_id,book_id)\r\n",
                "\tVALUES (GETDATE(),10,3),\r\n",
                "    (GETDATE(),5,12), \r\n",
                "     (GETDATE(),19,6), \r\n",
                "   (GETDATE(),1,8), \r\n",
                "     (GETDATE(),6,20) \r\n",
                "UPDATE JunkDB_STL_Sept2022.sunital.loan \r\n",
                "\tSET date_out = GETDATE()"
            ],
            "metadata": {
                "language": "sql",
                "azdata_cell_guid": "5c842238-4af0-4890-8af2-da4cb69f5375"
            },
            "outputs": [
                {
                    "output_type": "display_data",
                    "data": {
                        "text/html": "(64 rows affected)"
                    },
                    "metadata": {}
                },
                {
                    "output_type": "display_data",
                    "data": {
                        "text/html": "(0 rows affected)"
                    },
                    "metadata": {}
                },
                {
                    "output_type": "display_data",
                    "data": {
                        "text/html": "(5 rows affected)"
                    },
                    "metadata": {}
                },
                {
                    "output_type": "display_data",
                    "data": {
                        "text/html": "(11 rows affected)"
                    },
                    "metadata": {}
                },
                {
                    "output_type": "display_data",
                    "data": {
                        "text/html": "Total execution time: 00:00:00.079"
                    },
                    "metadata": {}
                },
                {
                    "output_type": "execute_result",
                    "execution_count": 7,
                    "data": {
                        "application/vnd.dataresource+json": {
                            "schema": {
                                "fields": [
                                    {
                                        "name": "title"
                                    },
                                    {
                                        "name": "available"
                                    }
                                ]
                            },
                            "data": [
                                {
                                    "0": "A Midsummers Night Dream",
                                    "1": "1"
                                },
                                {
                                    "0": "Romeo and Juliet",
                                    "1": "1"
                                },
                                {
                                    "0": "The Golden Compass",
                                    "1": "1"
                                },
                                {
                                    "0": "The Subtle Knife",
                                    "1": "1"
                                },
                                {
                                    "0": "The Amber Spyglass",
                                    "1": "1"
                                },
                                {
                                    "0": "The Alchemist",
                                    "1": "1"
                                },
                                {
                                    "0": "And Then There Were None",
                                    "1": "1"
                                },
                                {
                                    "0": "The Joy Luck Club",
                                    "1": "1"
                                },
                                {
                                    "0": "The Moon Lady",
                                    "1": "1"
                                },
                                {
                                    "0": "Sense and Sensibility",
                                    "1": "1"
                                },
                                {
                                    "0": "Northanger Abbey",
                                    "1": "1"
                                },
                                {
                                    "0": "Pride and Prejudice",
                                    "1": "1"
                                },
                                {
                                    "0": "Mansfield Park",
                                    "1": "1"
                                },
                                {
                                    "0": "Emma",
                                    "1": "1"
                                },
                                {
                                    "0": "The Handmaids Tale",
                                    "1": "0"
                                },
                                {
                                    "0": "The Testaments",
                                    "1": "1"
                                },
                                {
                                    "0": "The Parable of the Sower",
                                    "1": "1"
                                },
                                {
                                    "0": "Little Women",
                                    "1": "1"
                                },
                                {
                                    "0": "Still Life",
                                    "1": "1"
                                },
                                {
                                    "0": "A Fatal Grace",
                                    "1": "1"
                                },
                                {
                                    "0": "The Cruelest Month",
                                    "1": "1"
                                },
                                {
                                    "0": "The Murder Stone",
                                    "1": "1"
                                },
                                {
                                    "0": "The Brutal Telling",
                                    "1": "1"
                                },
                                {
                                    "0": "Bury Your Dead",
                                    "1": "1"
                                },
                                {
                                    "0": "A Trick of the Light",
                                    "1": "1"
                                },
                                {
                                    "0": "Midnights Children",
                                    "1": "1"
                                },
                                {
                                    "0": "Dont Let the Pigeon Drive the Bus!",
                                    "1": "1"
                                },
                                {
                                    "0": "Beezus and Ramona",
                                    "1": "1"
                                },
                                {
                                    "0": "Organic Chemistry",
                                    "1": "1"
                                },
                                {
                                    "0": "I Know Why the Caged Bird Sings",
                                    "1": "1"
                                },
                                {
                                    "0": "Beloved",
                                    "1": "1"
                                },
                                {
                                    "0": "Brassbones and Rainbows",
                                    "1": "1"
                                },
                                {
                                    "0": "A Midsummers Night Dream",
                                    "1": "1"
                                },
                                {
                                    "0": "Romeo and Juliet",
                                    "1": "1"
                                },
                                {
                                    "0": "The Golden Compass",
                                    "1": "1"
                                },
                                {
                                    "0": "The Subtle Knife",
                                    "1": "1"
                                },
                                {
                                    "0": "The Amber Spyglass",
                                    "1": "1"
                                },
                                {
                                    "0": "The Alchemist",
                                    "1": "1"
                                },
                                {
                                    "0": "And Then There Were None",
                                    "1": "1"
                                },
                                {
                                    "0": "The Joy Luck Club",
                                    "1": "1"
                                },
                                {
                                    "0": "The Moon Lady",
                                    "1": "1"
                                },
                                {
                                    "0": "Sense and Sensibility",
                                    "1": "1"
                                },
                                {
                                    "0": "Northanger Abbey",
                                    "1": "1"
                                },
                                {
                                    "0": "Pride and Prejudice",
                                    "1": "1"
                                },
                                {
                                    "0": "Mansfield Park",
                                    "1": "1"
                                },
                                {
                                    "0": "Emma",
                                    "1": "1"
                                },
                                {
                                    "0": "The Handmaids Tale",
                                    "1": "1"
                                },
                                {
                                    "0": "The Testaments",
                                    "1": "1"
                                },
                                {
                                    "0": "The Parable of the Sower",
                                    "1": "1"
                                },
                                {
                                    "0": "Little Women",
                                    "1": "1"
                                },
                                {
                                    "0": "Still Life",
                                    "1": "1"
                                },
                                {
                                    "0": "A Fatal Grace",
                                    "1": "1"
                                },
                                {
                                    "0": "The Cruelest Month",
                                    "1": "1"
                                },
                                {
                                    "0": "The Murder Stone",
                                    "1": "1"
                                },
                                {
                                    "0": "The Brutal Telling",
                                    "1": "1"
                                },
                                {
                                    "0": "Bury Your Dead",
                                    "1": "1"
                                },
                                {
                                    "0": "A Trick of the Light",
                                    "1": "1"
                                },
                                {
                                    "0": "Midnights Children",
                                    "1": "1"
                                },
                                {
                                    "0": "Dont Let the Pigeon Drive the Bus!",
                                    "1": "1"
                                },
                                {
                                    "0": "Beezus and Ramona",
                                    "1": "1"
                                },
                                {
                                    "0": "Organic Chemistry",
                                    "1": "1"
                                },
                                {
                                    "0": "I Know Why the Caged Bird Sings",
                                    "1": "1"
                                },
                                {
                                    "0": "Beloved",
                                    "1": "1"
                                },
                                {
                                    "0": "Brassbones and Rainbows",
                                    "1": "1"
                                }
                            ]
                        },
                        "text/html": "<table><tr><th>title</th><th>available</th></tr><tr><td>A Midsummers Night Dream</td><td>1</td></tr><tr><td>Romeo and Juliet</td><td>1</td></tr><tr><td>The Golden Compass</td><td>1</td></tr><tr><td>The Subtle Knife</td><td>1</td></tr><tr><td>The Amber Spyglass</td><td>1</td></tr><tr><td>The Alchemist</td><td>1</td></tr><tr><td>And Then There Were None</td><td>1</td></tr><tr><td>The Joy Luck Club</td><td>1</td></tr><tr><td>The Moon Lady</td><td>1</td></tr><tr><td>Sense and Sensibility</td><td>1</td></tr><tr><td>Northanger Abbey</td><td>1</td></tr><tr><td>Pride and Prejudice</td><td>1</td></tr><tr><td>Mansfield Park</td><td>1</td></tr><tr><td>Emma</td><td>1</td></tr><tr><td>The Handmaids Tale</td><td>0</td></tr><tr><td>The Testaments</td><td>1</td></tr><tr><td>The Parable of the Sower</td><td>1</td></tr><tr><td>Little Women</td><td>1</td></tr><tr><td>Still Life</td><td>1</td></tr><tr><td>A Fatal Grace</td><td>1</td></tr><tr><td>The Cruelest Month</td><td>1</td></tr><tr><td>The Murder Stone</td><td>1</td></tr><tr><td>The Brutal Telling</td><td>1</td></tr><tr><td>Bury Your Dead</td><td>1</td></tr><tr><td>A Trick of the Light</td><td>1</td></tr><tr><td>Midnights Children</td><td>1</td></tr><tr><td>Dont Let the Pigeon Drive the Bus!</td><td>1</td></tr><tr><td>Beezus and Ramona</td><td>1</td></tr><tr><td>Organic Chemistry</td><td>1</td></tr><tr><td>I Know Why the Caged Bird Sings</td><td>1</td></tr><tr><td>Beloved</td><td>1</td></tr><tr><td>Brassbones and Rainbows</td><td>1</td></tr><tr><td>A Midsummers Night Dream</td><td>1</td></tr><tr><td>Romeo and Juliet</td><td>1</td></tr><tr><td>The Golden Compass</td><td>1</td></tr><tr><td>The Subtle Knife</td><td>1</td></tr><tr><td>The Amber Spyglass</td><td>1</td></tr><tr><td>The Alchemist</td><td>1</td></tr><tr><td>And Then There Were None</td><td>1</td></tr><tr><td>The Joy Luck Club</td><td>1</td></tr><tr><td>The Moon Lady</td><td>1</td></tr><tr><td>Sense and Sensibility</td><td>1</td></tr><tr><td>Northanger Abbey</td><td>1</td></tr><tr><td>Pride and Prejudice</td><td>1</td></tr><tr><td>Mansfield Park</td><td>1</td></tr><tr><td>Emma</td><td>1</td></tr><tr><td>The Handmaids Tale</td><td>1</td></tr><tr><td>The Testaments</td><td>1</td></tr><tr><td>The Parable of the Sower</td><td>1</td></tr><tr><td>Little Women</td><td>1</td></tr><tr><td>Still Life</td><td>1</td></tr><tr><td>A Fatal Grace</td><td>1</td></tr><tr><td>The Cruelest Month</td><td>1</td></tr><tr><td>The Murder Stone</td><td>1</td></tr><tr><td>The Brutal Telling</td><td>1</td></tr><tr><td>Bury Your Dead</td><td>1</td></tr><tr><td>A Trick of the Light</td><td>1</td></tr><tr><td>Midnights Children</td><td>1</td></tr><tr><td>Dont Let the Pigeon Drive the Bus!</td><td>1</td></tr><tr><td>Beezus and Ramona</td><td>1</td></tr><tr><td>Organic Chemistry</td><td>1</td></tr><tr><td>I Know Why the Caged Bird Sings</td><td>1</td></tr><tr><td>Beloved</td><td>1</td></tr><tr><td>Brassbones and Rainbows</td><td>1</td></tr></table>"
                    },
                    "metadata": {}
                }
            ],
            "execution_count": 7
        },
        {
            "cell_type": "code",
            "source": [
                "SELECT*\r\n",
                "FROM JunkDB_STL_Sept2022.sunital.loan"
            ],
            "metadata": {
                "language": "sql",
                "azdata_cell_guid": "de4cf1b4-0af1-472b-b608-e5a8d9e964a0",
                "tags": []
            },
            "outputs": [
                {
                    "output_type": "display_data",
                    "data": {
                        "text/html": "(11 rows affected)"
                    },
                    "metadata": {}
                },
                {
                    "output_type": "display_data",
                    "data": {
                        "text/html": "Total execution time: 00:00:00.061"
                    },
                    "metadata": {}
                },
                {
                    "output_type": "execute_result",
                    "execution_count": 8,
                    "data": {
                        "application/vnd.dataresource+json": {
                            "schema": {
                                "fields": [
                                    {
                                        "name": "loan_id"
                                    },
                                    {
                                        "name": "patron_id"
                                    },
                                    {
                                        "name": "date_out"
                                    },
                                    {
                                        "name": "date_in"
                                    },
                                    {
                                        "name": "book_id"
                                    }
                                ]
                            },
                            "data": [
                                {
                                    "0": "14",
                                    "1": "10",
                                    "2": "2023-01-17",
                                    "3": "2023-01-16",
                                    "4": "3"
                                },
                                {
                                    "0": "16",
                                    "1": "10",
                                    "2": "2023-01-17",
                                    "3": "NULL",
                                    "4": "3"
                                },
                                {
                                    "0": "17",
                                    "1": "5",
                                    "2": "2023-01-17",
                                    "3": "NULL",
                                    "4": "12"
                                },
                                {
                                    "0": "18",
                                    "1": "19",
                                    "2": "2023-01-17",
                                    "3": "NULL",
                                    "4": "6"
                                },
                                {
                                    "0": "19",
                                    "1": "1",
                                    "2": "2023-01-17",
                                    "3": "NULL",
                                    "4": "8"
                                },
                                {
                                    "0": "20",
                                    "1": "6",
                                    "2": "2023-01-17",
                                    "3": "NULL",
                                    "4": "20"
                                },
                                {
                                    "0": "21",
                                    "1": "10",
                                    "2": "2023-01-17",
                                    "3": "NULL",
                                    "4": "3"
                                },
                                {
                                    "0": "22",
                                    "1": "5",
                                    "2": "2023-01-17",
                                    "3": "NULL",
                                    "4": "12"
                                },
                                {
                                    "0": "23",
                                    "1": "19",
                                    "2": "2023-01-17",
                                    "3": "NULL",
                                    "4": "6"
                                },
                                {
                                    "0": "24",
                                    "1": "1",
                                    "2": "2023-01-17",
                                    "3": "NULL",
                                    "4": "8"
                                },
                                {
                                    "0": "25",
                                    "1": "6",
                                    "2": "2023-01-17",
                                    "3": "NULL",
                                    "4": "20"
                                }
                            ]
                        },
                        "text/html": "<table><tr><th>loan_id</th><th>patron_id</th><th>date_out</th><th>date_in</th><th>book_id</th></tr><tr><td>14</td><td>10</td><td>2023-01-17</td><td>2023-01-16</td><td>3</td></tr><tr><td>16</td><td>10</td><td>2023-01-17</td><td>NULL</td><td>3</td></tr><tr><td>17</td><td>5</td><td>2023-01-17</td><td>NULL</td><td>12</td></tr><tr><td>18</td><td>19</td><td>2023-01-17</td><td>NULL</td><td>6</td></tr><tr><td>19</td><td>1</td><td>2023-01-17</td><td>NULL</td><td>8</td></tr><tr><td>20</td><td>6</td><td>2023-01-17</td><td>NULL</td><td>20</td></tr><tr><td>21</td><td>10</td><td>2023-01-17</td><td>NULL</td><td>3</td></tr><tr><td>22</td><td>5</td><td>2023-01-17</td><td>NULL</td><td>12</td></tr><tr><td>23</td><td>19</td><td>2023-01-17</td><td>NULL</td><td>6</td></tr><tr><td>24</td><td>1</td><td>2023-01-17</td><td>NULL</td><td>8</td></tr><tr><td>25</td><td>6</td><td>2023-01-17</td><td>NULL</td><td>20</td></tr></table>"
                    },
                    "metadata": {}
                }
            ],
            "execution_count": 8
        },
        {
            "cell_type": "code",
            "source": [
                "UPDATE JunkDB_STL_Sept2022.sunital.patron\r\n",
                "SET loan_id ='14'\r\n",
                "WHERE patron_id =10\r\n",
                "UPDATE JunkDB_STL_Sept2022.sunital.patron\r\n",
                "SET loan_id ='17'\r\n",
                "WHERE patron_id =5\r\n",
                "UPDATE JunkDB_STL_Sept2022.sunital.patron\r\n",
                "SET loan_id ='14'\r\n",
                "WHERE patron_id =10\r\n",
                ""
            ],
            "metadata": {
                "language": "sql",
                "azdata_cell_guid": "030c1cd8-68ec-479e-b1e1-1fd2fe695618"
            },
            "outputs": [],
            "execution_count": null
        },
        {
            "cell_type": "markdown",
            "source": [
                "## **Part E: Create a temp table**\n",
                "\n",
                "Write a query that returns a temporary table for a patron that shows them all of their loans.\n",
                "\n",
                "_Question to think about:_  Why might a temp table be a good option for this type of query?"
            ],
            "metadata": {
                "azdata_cell_guid": "66e2b5be-ddbf-44db-a903-2c2f08db02d3"
            },
            "attachments": {}
        },
        {
            "cell_type": "code",
            "source": [
                "-- Code your temp table here\r\n",
                "SELECT patron_id, first_name,last_name, loan_id \r\n",
                "INTO #patron_temp_table\r\n",
                "FROM JunkDB_STL_Sept2022.sunital.patron\r\n",
                ""
            ],
            "metadata": {
                "azdata_cell_guid": "0977ab8b-f0dd-42e5-aed8-79b511dda8bc",
                "language": "sql"
            },
            "outputs": [
                {
                    "output_type": "display_data",
                    "data": {
                        "text/html": "(48 rows affected)"
                    },
                    "metadata": {}
                },
                {
                    "output_type": "display_data",
                    "data": {
                        "text/html": "Total execution time: 00:00:00.053"
                    },
                    "metadata": {}
                }
            ],
            "execution_count": 9
        },
        {
            "cell_type": "code",
            "source": [
                "SELECT *\r\n",
                "FROM #patron_temp_table"
            ],
            "metadata": {
                "language": "sql",
                "azdata_cell_guid": "4012b238-c04d-4071-80a4-ada12ac4318e"
            },
            "outputs": [
                {
                    "output_type": "display_data",
                    "data": {
                        "text/html": "(48 rows affected)"
                    },
                    "metadata": {}
                },
                {
                    "output_type": "display_data",
                    "data": {
                        "text/html": "Total execution time: 00:00:00.112"
                    },
                    "metadata": {}
                },
                {
                    "output_type": "execute_result",
                    "execution_count": 11,
                    "data": {
                        "application/vnd.dataresource+json": {
                            "schema": {
                                "fields": [
                                    {
                                        "name": "patron_id"
                                    },
                                    {
                                        "name": "first_name"
                                    },
                                    {
                                        "name": "last_name"
                                    },
                                    {
                                        "name": "loan_id"
                                    }
                                ]
                            },
                            "data": [
                                {
                                    "0": "1",
                                    "1": "Jennifer",
                                    "2": "Slayny",
                                    "3": "NULL"
                                },
                                {
                                    "0": "2",
                                    "1": "Susan",
                                    "2": "Traviss",
                                    "3": "NULL"
                                },
                                {
                                    "0": "3",
                                    "1": "Vincent",
                                    "2": "Ritelli",
                                    "3": "NULL"
                                },
                                {
                                    "0": "4",
                                    "1": "Tasia",
                                    "2": "Laybourne",
                                    "3": "NULL"
                                },
                                {
                                    "0": "5",
                                    "1": "Wren",
                                    "2": "Gergler",
                                    "3": "NULL"
                                },
                                {
                                    "0": "6",
                                    "1": "Tory",
                                    "2": "Lees",
                                    "3": "NULL"
                                },
                                {
                                    "0": "7",
                                    "1": "Estelle",
                                    "2": "Di Lorio",
                                    "3": "NULL"
                                },
                                {
                                    "0": "8",
                                    "1": "Dorian",
                                    "2": "Betje",
                                    "3": "NULL"
                                },
                                {
                                    "0": "9",
                                    "1": "Frank",
                                    "2": "Jelk",
                                    "3": "NULL"
                                },
                                {
                                    "0": "10",
                                    "1": "Chris",
                                    "2": "Endon",
                                    "3": "NULL"
                                },
                                {
                                    "0": "11",
                                    "1": "Gillie",
                                    "2": "Fritz",
                                    "3": "NULL"
                                },
                                {
                                    "0": "12",
                                    "1": "Leisha",
                                    "2": "Defty",
                                    "3": "NULL"
                                },
                                {
                                    "0": "13",
                                    "1": "Erika",
                                    "2": "Bompass",
                                    "3": "NULL"
                                },
                                {
                                    "0": "14",
                                    "1": "Gabe",
                                    "2": "Moxstead",
                                    "3": "NULL"
                                },
                                {
                                    "0": "15",
                                    "1": "Blake",
                                    "2": "Teresse",
                                    "3": "NULL"
                                },
                                {
                                    "0": "16",
                                    "1": "Joshua",
                                    "2": "Timmouth",
                                    "3": "NULL"
                                },
                                {
                                    "0": "17",
                                    "1": "Tasha",
                                    "2": "Timmouth",
                                    "3": "NULL"
                                },
                                {
                                    "0": "18",
                                    "1": "Neil",
                                    "2": "Davie",
                                    "3": "NULL"
                                },
                                {
                                    "0": "19",
                                    "1": "Emmeline",
                                    "2": "Pitherick",
                                    "3": "NULL"
                                },
                                {
                                    "0": "20",
                                    "1": "Josiah",
                                    "2": "Staner",
                                    "3": "NULL"
                                },
                                {
                                    "0": "21",
                                    "1": "James",
                                    "2": "Greetham",
                                    "3": "NULL"
                                },
                                {
                                    "0": "22",
                                    "1": "Isaac",
                                    "2": "Barstowk",
                                    "3": "NULL"
                                },
                                {
                                    "0": "23",
                                    "1": "Dean",
                                    "2": "Nelane",
                                    "3": "NULL"
                                },
                                {
                                    "0": "24",
                                    "1": "Carolina",
                                    "2": "Cranmere",
                                    "3": "NULL"
                                },
                                {
                                    "0": "25",
                                    "1": "Champ",
                                    "2": "Lardiner",
                                    "3": "NULL"
                                },
                                {
                                    "0": "26",
                                    "1": "Abbie",
                                    "2": "Quaif",
                                    "3": "NULL"
                                },
                                {
                                    "0": "27",
                                    "1": "Camile",
                                    "2": "Milbourne",
                                    "3": "NULL"
                                },
                                {
                                    "0": "28",
                                    "1": "Quentin",
                                    "2": "Crose",
                                    "3": "NULL"
                                },
                                {
                                    "0": "29",
                                    "1": "Silvano",
                                    "2": "Horlick",
                                    "3": "NULL"
                                },
                                {
                                    "0": "30",
                                    "1": "Phyllis",
                                    "2": "Cicchillo",
                                    "3": "NULL"
                                },
                                {
                                    "0": "31",
                                    "1": "Jerrie",
                                    "2": "Brownhall",
                                    "3": "NULL"
                                },
                                {
                                    "0": "32",
                                    "1": "Ludovika",
                                    "2": "Leist",
                                    "3": "NULL"
                                },
                                {
                                    "0": "33",
                                    "1": "Tara",
                                    "2": "Knatt",
                                    "3": "NULL"
                                },
                                {
                                    "0": "34",
                                    "1": "Kelsie",
                                    "2": "Parkson",
                                    "3": "NULL"
                                },
                                {
                                    "0": "35",
                                    "1": "Jodi",
                                    "2": "Leopard",
                                    "3": "NULL"
                                },
                                {
                                    "0": "36",
                                    "1": "Rosanna",
                                    "2": "Cultcheth",
                                    "3": "NULL"
                                },
                                {
                                    "0": "37",
                                    "1": "Remy",
                                    "2": "Fairpool",
                                    "3": "NULL"
                                },
                                {
                                    "0": "38",
                                    "1": "Megan",
                                    "2": "Blyth",
                                    "3": "NULL"
                                },
                                {
                                    "0": "39",
                                    "1": "Rikki",
                                    "2": "McLernon",
                                    "3": "NULL"
                                },
                                {
                                    "0": "40",
                                    "1": "Clare",
                                    "2": "Haacker",
                                    "3": "NULL"
                                },
                                {
                                    "0": "41",
                                    "1": "Vincent",
                                    "2": "Chettle",
                                    "3": "NULL"
                                },
                                {
                                    "0": "42",
                                    "1": "Sybil",
                                    "2": "Costanza",
                                    "3": "NULL"
                                },
                                {
                                    "0": "43",
                                    "1": "Jonas",
                                    "2": "Sinclare",
                                    "3": "NULL"
                                },
                                {
                                    "0": "44",
                                    "1": "Claire",
                                    "2": "Bendel",
                                    "3": "NULL"
                                },
                                {
                                    "0": "45",
                                    "1": "Kathleen",
                                    "2": "Welband",
                                    "3": "NULL"
                                },
                                {
                                    "0": "46",
                                    "1": "Kylie",
                                    "2": "Crannage",
                                    "3": "NULL"
                                },
                                {
                                    "0": "47",
                                    "1": "Evelyn",
                                    "2": "Tarajo",
                                    "3": "NULL"
                                },
                                {
                                    "0": "48",
                                    "1": "Oliver",
                                    "2": "Caulson",
                                    "3": "NULL"
                                }
                            ]
                        },
                        "text/html": "<table><tr><th>patron_id</th><th>first_name</th><th>last_name</th><th>loan_id</th></tr><tr><td>1</td><td>Jennifer</td><td>Slayny</td><td>NULL</td></tr><tr><td>2</td><td>Susan</td><td>Traviss</td><td>NULL</td></tr><tr><td>3</td><td>Vincent</td><td>Ritelli</td><td>NULL</td></tr><tr><td>4</td><td>Tasia</td><td>Laybourne</td><td>NULL</td></tr><tr><td>5</td><td>Wren</td><td>Gergler</td><td>NULL</td></tr><tr><td>6</td><td>Tory</td><td>Lees</td><td>NULL</td></tr><tr><td>7</td><td>Estelle</td><td>Di Lorio</td><td>NULL</td></tr><tr><td>8</td><td>Dorian</td><td>Betje</td><td>NULL</td></tr><tr><td>9</td><td>Frank</td><td>Jelk</td><td>NULL</td></tr><tr><td>10</td><td>Chris</td><td>Endon</td><td>NULL</td></tr><tr><td>11</td><td>Gillie</td><td>Fritz</td><td>NULL</td></tr><tr><td>12</td><td>Leisha</td><td>Defty</td><td>NULL</td></tr><tr><td>13</td><td>Erika</td><td>Bompass</td><td>NULL</td></tr><tr><td>14</td><td>Gabe</td><td>Moxstead</td><td>NULL</td></tr><tr><td>15</td><td>Blake</td><td>Teresse</td><td>NULL</td></tr><tr><td>16</td><td>Joshua</td><td>Timmouth</td><td>NULL</td></tr><tr><td>17</td><td>Tasha</td><td>Timmouth</td><td>NULL</td></tr><tr><td>18</td><td>Neil</td><td>Davie</td><td>NULL</td></tr><tr><td>19</td><td>Emmeline</td><td>Pitherick</td><td>NULL</td></tr><tr><td>20</td><td>Josiah</td><td>Staner</td><td>NULL</td></tr><tr><td>21</td><td>James</td><td>Greetham</td><td>NULL</td></tr><tr><td>22</td><td>Isaac</td><td>Barstowk</td><td>NULL</td></tr><tr><td>23</td><td>Dean</td><td>Nelane</td><td>NULL</td></tr><tr><td>24</td><td>Carolina</td><td>Cranmere</td><td>NULL</td></tr><tr><td>25</td><td>Champ</td><td>Lardiner</td><td>NULL</td></tr><tr><td>26</td><td>Abbie</td><td>Quaif</td><td>NULL</td></tr><tr><td>27</td><td>Camile</td><td>Milbourne</td><td>NULL</td></tr><tr><td>28</td><td>Quentin</td><td>Crose</td><td>NULL</td></tr><tr><td>29</td><td>Silvano</td><td>Horlick</td><td>NULL</td></tr><tr><td>30</td><td>Phyllis</td><td>Cicchillo</td><td>NULL</td></tr><tr><td>31</td><td>Jerrie</td><td>Brownhall</td><td>NULL</td></tr><tr><td>32</td><td>Ludovika</td><td>Leist</td><td>NULL</td></tr><tr><td>33</td><td>Tara</td><td>Knatt</td><td>NULL</td></tr><tr><td>34</td><td>Kelsie</td><td>Parkson</td><td>NULL</td></tr><tr><td>35</td><td>Jodi</td><td>Leopard</td><td>NULL</td></tr><tr><td>36</td><td>Rosanna</td><td>Cultcheth</td><td>NULL</td></tr><tr><td>37</td><td>Remy</td><td>Fairpool</td><td>NULL</td></tr><tr><td>38</td><td>Megan</td><td>Blyth</td><td>NULL</td></tr><tr><td>39</td><td>Rikki</td><td>McLernon</td><td>NULL</td></tr><tr><td>40</td><td>Clare</td><td>Haacker</td><td>NULL</td></tr><tr><td>41</td><td>Vincent</td><td>Chettle</td><td>NULL</td></tr><tr><td>42</td><td>Sybil</td><td>Costanza</td><td>NULL</td></tr><tr><td>43</td><td>Jonas</td><td>Sinclare</td><td>NULL</td></tr><tr><td>44</td><td>Claire</td><td>Bendel</td><td>NULL</td></tr><tr><td>45</td><td>Kathleen</td><td>Welband</td><td>NULL</td></tr><tr><td>46</td><td>Kylie</td><td>Crannage</td><td>NULL</td></tr><tr><td>47</td><td>Evelyn</td><td>Tarajo</td><td>NULL</td></tr><tr><td>48</td><td>Oliver</td><td>Caulson</td><td>NULL</td></tr></table>"
                    },
                    "metadata": {}
                }
            ],
            "execution_count": 11
        },
        {
            "cell_type": "markdown",
            "source": [
                "## **Part F: Wrap-up Query**\n",
                "\n",
                "Create a query that returns the names of the patrons with the genre of every book they currently have checked out.\n",
                "\n",
                "Things to consider:  How are these tables related and connected to each other?\n",
                "\n",
                "> _Note:  If you find a NULL in your output instead of a loan id,   this is likely because there are multiple loans per patron.  Try_ _clearing out the loan table.  You can do this by either dropping the entire table or clearing specific rows._"
            ],
            "metadata": {
                "azdata_cell_guid": "9e29f561-1501-45ac-b6cf-f2136fe5097f"
            },
            "attachments": {}
        },
        {
            "cell_type": "code",
            "source": [
                "-- Create your Wrap-Up query here:\r\n",
                "select p.first_name, p.last_name\r\n",
                "from JunkDB_STL_Sept2022.sunital.patron as p \r\n",
                "join JunkDB_STL_Sept2022.sunital.loan as l \r\n",
                "on p.loan_id=l.loan_id\r\n",
                "where l.loan_id = '14'\r\n",
                "\r\n",
                "\r\n",
                "\r\n",
                "\r\n",
                "\r\n",
                "\r\n",
                "\r\n",
                ""
            ],
            "metadata": {
                "azdata_cell_guid": "c568e7c2-283b-43ab-bf66-8982117c181b",
                "language": "sql"
            },
            "outputs": [
                {
                    "output_type": "display_data",
                    "data": {
                        "text/html": "(0 rows affected)"
                    },
                    "metadata": {}
                },
                {
                    "output_type": "display_data",
                    "data": {
                        "text/html": "Total execution time: 00:00:00.105"
                    },
                    "metadata": {}
                },
                {
                    "output_type": "execute_result",
                    "execution_count": 5,
                    "data": {
                        "application/vnd.dataresource+json": {
                            "schema": {
                                "fields": [
                                    {
                                        "name": "first_name"
                                    },
                                    {
                                        "name": "last_name"
                                    }
                                ]
                            },
                            "data": []
                        },
                        "text/html": "<table><tr><th>first_name</th><th>last_name</th></tr></table>"
                    },
                    "metadata": {}
                }
            ],
            "execution_count": 5
        },
        {
            "cell_type": "markdown",
            "source": [
                "## **Bonus Challenge:**\n",
                "\n",
                "This is an optional challenge.\n",
                "\n",
                "Create a new table for reference materials using the following code:\n",
                "\n",
                "```\n",
                "CREATE TABLE [DB].[schema].reference_books (\n",
                "    reference_id INT IDENTITY(1,1) PRIMARY KEY,\n",
                "    edition INT,\n",
                "    book_id INT,\n",
                "    book_id INT FOREIGN KEY REFERENCES [DB].[schema].book(book_id)\n",
                "        ON UPDATE SET NULL\n",
                "        ON DELETE SET NULL\n",
                ");\n",
                "```\n",
                "\n",
                "Fill the table with the following query:\n",
                "\n",
                "```\n",
                "INSERT INTO [DB].[schema].reference_books (edition, book_id)\n",
                "VALUE (5,32);\n",
                "```"
            ],
            "metadata": {
                "azdata_cell_guid": "863f5070-2fd7-4dfa-aaf8-dfc148362cec"
            },
            "attachments": {}
        },
        {
            "cell_type": "code",
            "source": [
                "-- Create and fill your reference table here:\n",
                ""
            ],
            "metadata": {
                "azdata_cell_guid": "b7699c0f-e06b-429b-bd94-9cca18968797",
                "language": "sql"
            },
            "outputs": [],
            "execution_count": null
        },
        {
            "cell_type": "markdown",
            "source": [
                "<span style=\"font-size: 14px; font-family: -apple-system, BlinkMacSystemFont, sans-serif;\">A reference book cannot leave the library.&nbsp; How would you modify either the <b>reference_book</b> table or the <b>book</b> table to make sure that doesn't happen?&nbsp; Try to apply your modifications.</span>"
            ],
            "metadata": {
                "azdata_cell_guid": "e647d002-c3ae-415c-9fb3-c2e8c7e5ec7f"
            },
            "attachments": {}
        },
        {
            "cell_type": "code",
            "source": [
                "-- Code your query here:"
            ],
            "metadata": {
                "azdata_cell_guid": "f8c66034-a75e-4fd3-96ac-50e25fd73263",
                "language": "sql"
            },
            "outputs": [],
            "execution_count": null
        }
    ]
}